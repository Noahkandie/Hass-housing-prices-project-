{
  "nbformat": 4,
  "nbformat_minor": 0,
  "metadata": {
    "colab": {
      "name": " Hass  housing prices project",
      "provenance": [],
      "authorship_tag": "ABX9TyP3K4W71u5XrxwpseaFSBz7",
      "include_colab_link": true
    },
    "kernelspec": {
      "name": "python3",
      "display_name": "Python 3"
    },
    "language_info": {
      "name": "python"
    }
  },
  "cells": [
    {
      "cell_type": "markdown",
      "metadata": {
        "id": "view-in-github",
        "colab_type": "text"
      },
      "source": [
        "<a href=\"https://colab.research.google.com/github/Noahkandie/Hass-housing-prices-project-/blob/main/Hass_housing_prices_project.ipynb\" target=\"_parent\"><img src=\"https://colab.research.google.com/assets/colab-badge.svg\" alt=\"Open In Colab\"/></a>"
      ]
    },
    {
      "cell_type": "markdown",
      "metadata": {
        "id": "9viRxsV0PULD"
      },
      "source": [
        "# Introduction"
      ]
    },
    {
      "cell_type": "markdown",
      "metadata": {
        "id": "vA9jHWDEOETc"
      },
      "source": [
        "## Overview\n",
        "\n",
        "Within your deliverable you are expected to:\n",
        "\n",
        "    Define the question, the metric for success, the context, experimental design taken.\n",
        "    Read and explore the given dataset.\n",
        "    Define the appropriateness of the available data to answer the given question.\n",
        "    Find and deal with outliers, anomalies, and missing data within the dataset.\n",
        "    Perform univariate, bivariate and multivariate analysis recording your observations.\n",
        "    Performing regression analysis.\n",
        "        Incorporate categorical independent variables into your models.\n",
        "        Check for multicollinearity\n",
        "    Provide a recommendation based on your analysis.\n",
        "        Create residual plots for your models, and assess heteroskedasticity using Barlett's test.\n",
        "    Challenge your solution by providing insights on how you can make improvements in model improvement.\n",
        "\n",
        "While performing your regression analysis, you will be required to perform modeling using the given regression techniques then evaluate their performance. You will be then required to provide your observations and recommendation on the suitability of each of the tested models on their appropriateness of solving the given problem.\n",
        "\n",
        "1. Multiple Linear Regression\n",
        "2. Quantile Regression\n",
        "3. Ridge Regression\n",
        "4. Lasso Regression\n",
        "5. Elastic Net Regression"
      ]
    },
    {
      "cell_type": "markdown",
      "metadata": {
        "id": "q3er0niyOVCt"
      },
      "source": [
        "\n",
        "## 1.1 Research Question\n",
        "\n",
        "Study the factors that affect housing prices, and then create a model that would allow the company to accurately predict the sale of prices given certain predictor/target variables.\n"
      ]
    },
    {
      "cell_type": "markdown",
      "metadata": {
        "id": "ptNIKF-BEWZl"
      },
      "source": [
        "## 1.2 Metric for Success"
      ]
    },
    {
      "cell_type": "markdown",
      "metadata": {
        "id": "5MNYR8K3Efbb"
      },
      "source": [
        "The project will be a success if we are able to create a model that will allow Hass Consulting Company to accurately predict the sale of prices upon being provided with the predictor variables"
      ]
    },
    {
      "cell_type": "markdown",
      "metadata": {
        "id": "AhBya6RjEltS"
      },
      "source": [
        "## 1.3 Understanding the Context"
      ]
    },
    {
      "cell_type": "markdown",
      "metadata": {
        "id": "Q3myL8CnEsdZ"
      },
      "source": [
        "Hass Consulting Company is a real estate leader with over 25 years of experience. This study will study the factors that affect housing prices using the given information on real estate properties owned that was collected over the past few months. We will then create a model that would allow the company to accurately predict the sale of prices upon being provided with the predictor variables"
      ]
    },
    {
      "cell_type": "markdown",
      "metadata": {
        "id": "8N_cuSg7E2qh"
      },
      "source": [
        "## 1.4 Experimental Design\n",
        "\n",
        "- Data Cleaning and Preparation\n",
        "    - Load libraries and dataset\n",
        "    - Deal with missing values\n",
        "    - Deal with duplicated records\n",
        "- Perform EDA\n",
        "    - Univariate Analysis\n",
        "    - Bivariate Analysis\n",
        "- Split dataset into testing and training data\n",
        "- Carry out regression while providing brief descriptions of how each regression model differs from the               other regression models and what their limitations are\n",
        "    - Multiple Linear Regression\n",
        "    - Quantile Regression\n",
        "    - Lasso Regression\n",
        "    - Ridge Regression\n",
        "    - Elastic Net Regression\n",
        "- Make predictions using the different regression models\n",
        "- Assess the accuracy of the different regression models\n",
        "- Make conclusions & challenge the solution"
      ]
    },
    {
      "cell_type": "markdown",
      "metadata": {
        "id": "XWdAOWabFrG8"
      },
      "source": [
        ""
      ]
    },
    {
      "cell_type": "markdown",
      "metadata": {
        "id": "fkOCG4o6FL7L"
      },
      "source": [
        "## 1.5 Appropriateness of Data\n",
        "\n",
        "Below is the dataset glossary:\n",
        "\n",
        "    * Id\n",
        "    * price :    Price of the house\n",
        "    * bedrooms :   Number of Bedrooms\n",
        "    * bathrooms :   Number of Bathrooms\n",
        "    * sqft_living :   Square feet area of living area\n",
        "    * sqft_lot :   Square feet area of parking Layout\n",
        "    * floors :   Number of Floors\n",
        "    * waterfront:   Whether waterfront is there or not\n",
        "    * view :   Number of Views\n",
        "    * grade :   Grades\n",
        "    * sqft_above\n",
        "    * sqft_basement :   Square feet area off basement\n",
        "    * yr_built :   Year the house is built\n",
        "    * yr_renovated :   Year the house is renovated\n",
        "    * zipcode :   zipcode os the house\n",
        "    * lat :   Latitude of the house\n",
        "    * lon : Longitude of the house\n",
        "    * sqft_living15\n",
        "    * sqft_lot15\n",
        "The grade variable has an index range\n",
        "  grade - An index from 1 to 13, where 1-3 falls short of building construction and design, 7 has an average level of construction and design, and 11-13 have a high quality level of construction and design.\n"
      ]
    },
    {
      "cell_type": "markdown",
      "metadata": {
        "id": "LMF0BW-SGDhQ"
      },
      "source": [
        "## 2.1 Reading the Data"
      ]
    },
    {
      "cell_type": "code",
      "metadata": {
        "id": "2njEonm_XQ3W"
      },
      "source": [
        "# Import the necessary libraries\n",
        "import numpy as np\n",
        "import pandas as pd\n",
        "import matplotlib.pyplot as plt\n",
        "import seaborn as sns\n",
        "import scipy.stats as stats\n",
        "import warnings\n",
        "warnings.simplefilter(action='ignore', category=FutureWarning)"
      ],
      "execution_count": 1,
      "outputs": []
    },
    {
      "cell_type": "code",
      "metadata": {
        "colab": {
          "base_uri": "https://localhost:8080/",
          "height": 224
        },
        "id": "HywW3Xv3YIFz",
        "outputId": "4f86e950-ae41-4ba3-b5dd-4d7903e36f2c"
      },
      "source": [
        "house=pd. read_csv('/content/Independent Project Week 7 - house_data.csv')\n",
        "house.head()"
      ],
      "execution_count": 2,
      "outputs": [
        {
          "output_type": "execute_result",
          "data": {
            "text/html": [
              "<div>\n",
              "<style scoped>\n",
              "    .dataframe tbody tr th:only-of-type {\n",
              "        vertical-align: middle;\n",
              "    }\n",
              "\n",
              "    .dataframe tbody tr th {\n",
              "        vertical-align: top;\n",
              "    }\n",
              "\n",
              "    .dataframe thead th {\n",
              "        text-align: right;\n",
              "    }\n",
              "</style>\n",
              "<table border=\"1\" class=\"dataframe\">\n",
              "  <thead>\n",
              "    <tr style=\"text-align: right;\">\n",
              "      <th></th>\n",
              "      <th>id</th>\n",
              "      <th>price</th>\n",
              "      <th>bedrooms</th>\n",
              "      <th>bathrooms</th>\n",
              "      <th>sqft_living</th>\n",
              "      <th>sqft_lot</th>\n",
              "      <th>floors</th>\n",
              "      <th>waterfront</th>\n",
              "      <th>view</th>\n",
              "      <th>condition</th>\n",
              "      <th>grade</th>\n",
              "      <th>sqft_above</th>\n",
              "      <th>sqft_basement</th>\n",
              "      <th>yr_built</th>\n",
              "      <th>yr_renovated</th>\n",
              "      <th>zipcode</th>\n",
              "      <th>lat</th>\n",
              "      <th>long</th>\n",
              "      <th>sqft_living15</th>\n",
              "      <th>sqft_lot15</th>\n",
              "    </tr>\n",
              "  </thead>\n",
              "  <tbody>\n",
              "    <tr>\n",
              "      <th>0</th>\n",
              "      <td>7129300520</td>\n",
              "      <td>221900.0</td>\n",
              "      <td>3</td>\n",
              "      <td>1.00</td>\n",
              "      <td>1180</td>\n",
              "      <td>5650</td>\n",
              "      <td>1.0</td>\n",
              "      <td>0</td>\n",
              "      <td>0</td>\n",
              "      <td>3</td>\n",
              "      <td>7</td>\n",
              "      <td>1180</td>\n",
              "      <td>0</td>\n",
              "      <td>1955</td>\n",
              "      <td>0</td>\n",
              "      <td>98178</td>\n",
              "      <td>47.5112</td>\n",
              "      <td>-122.257</td>\n",
              "      <td>1340</td>\n",
              "      <td>5650</td>\n",
              "    </tr>\n",
              "    <tr>\n",
              "      <th>1</th>\n",
              "      <td>6414100192</td>\n",
              "      <td>538000.0</td>\n",
              "      <td>3</td>\n",
              "      <td>2.25</td>\n",
              "      <td>2570</td>\n",
              "      <td>7242</td>\n",
              "      <td>2.0</td>\n",
              "      <td>0</td>\n",
              "      <td>0</td>\n",
              "      <td>3</td>\n",
              "      <td>7</td>\n",
              "      <td>2170</td>\n",
              "      <td>400</td>\n",
              "      <td>1951</td>\n",
              "      <td>1991</td>\n",
              "      <td>98125</td>\n",
              "      <td>47.7210</td>\n",
              "      <td>-122.319</td>\n",
              "      <td>1690</td>\n",
              "      <td>7639</td>\n",
              "    </tr>\n",
              "    <tr>\n",
              "      <th>2</th>\n",
              "      <td>5631500400</td>\n",
              "      <td>180000.0</td>\n",
              "      <td>2</td>\n",
              "      <td>1.00</td>\n",
              "      <td>770</td>\n",
              "      <td>10000</td>\n",
              "      <td>1.0</td>\n",
              "      <td>0</td>\n",
              "      <td>0</td>\n",
              "      <td>3</td>\n",
              "      <td>6</td>\n",
              "      <td>770</td>\n",
              "      <td>0</td>\n",
              "      <td>1933</td>\n",
              "      <td>0</td>\n",
              "      <td>98028</td>\n",
              "      <td>47.7379</td>\n",
              "      <td>-122.233</td>\n",
              "      <td>2720</td>\n",
              "      <td>8062</td>\n",
              "    </tr>\n",
              "    <tr>\n",
              "      <th>3</th>\n",
              "      <td>2487200875</td>\n",
              "      <td>604000.0</td>\n",
              "      <td>4</td>\n",
              "      <td>3.00</td>\n",
              "      <td>1960</td>\n",
              "      <td>5000</td>\n",
              "      <td>1.0</td>\n",
              "      <td>0</td>\n",
              "      <td>0</td>\n",
              "      <td>5</td>\n",
              "      <td>7</td>\n",
              "      <td>1050</td>\n",
              "      <td>910</td>\n",
              "      <td>1965</td>\n",
              "      <td>0</td>\n",
              "      <td>98136</td>\n",
              "      <td>47.5208</td>\n",
              "      <td>-122.393</td>\n",
              "      <td>1360</td>\n",
              "      <td>5000</td>\n",
              "    </tr>\n",
              "    <tr>\n",
              "      <th>4</th>\n",
              "      <td>1954400510</td>\n",
              "      <td>510000.0</td>\n",
              "      <td>3</td>\n",
              "      <td>2.00</td>\n",
              "      <td>1680</td>\n",
              "      <td>8080</td>\n",
              "      <td>1.0</td>\n",
              "      <td>0</td>\n",
              "      <td>0</td>\n",
              "      <td>3</td>\n",
              "      <td>8</td>\n",
              "      <td>1680</td>\n",
              "      <td>0</td>\n",
              "      <td>1987</td>\n",
              "      <td>0</td>\n",
              "      <td>98074</td>\n",
              "      <td>47.6168</td>\n",
              "      <td>-122.045</td>\n",
              "      <td>1800</td>\n",
              "      <td>7503</td>\n",
              "    </tr>\n",
              "  </tbody>\n",
              "</table>\n",
              "</div>"
            ],
            "text/plain": [
              "           id     price  bedrooms  ...     long  sqft_living15  sqft_lot15\n",
              "0  7129300520  221900.0         3  ... -122.257           1340        5650\n",
              "1  6414100192  538000.0         3  ... -122.319           1690        7639\n",
              "2  5631500400  180000.0         2  ... -122.233           2720        8062\n",
              "3  2487200875  604000.0         4  ... -122.393           1360        5000\n",
              "4  1954400510  510000.0         3  ... -122.045           1800        7503\n",
              "\n",
              "[5 rows x 20 columns]"
            ]
          },
          "metadata": {
            "tags": []
          },
          "execution_count": 2
        }
      ]
    },
    {
      "cell_type": "code",
      "metadata": {
        "colab": {
          "base_uri": "https://localhost:8080/",
          "height": 224
        },
        "id": "TEvPNBPoaYJX",
        "outputId": "1cb271f9-3825-48fb-936d-e5b628be238b"
      },
      "source": [
        "house.tail()"
      ],
      "execution_count": 3,
      "outputs": [
        {
          "output_type": "execute_result",
          "data": {
            "text/html": [
              "<div>\n",
              "<style scoped>\n",
              "    .dataframe tbody tr th:only-of-type {\n",
              "        vertical-align: middle;\n",
              "    }\n",
              "\n",
              "    .dataframe tbody tr th {\n",
              "        vertical-align: top;\n",
              "    }\n",
              "\n",
              "    .dataframe thead th {\n",
              "        text-align: right;\n",
              "    }\n",
              "</style>\n",
              "<table border=\"1\" class=\"dataframe\">\n",
              "  <thead>\n",
              "    <tr style=\"text-align: right;\">\n",
              "      <th></th>\n",
              "      <th>id</th>\n",
              "      <th>price</th>\n",
              "      <th>bedrooms</th>\n",
              "      <th>bathrooms</th>\n",
              "      <th>sqft_living</th>\n",
              "      <th>sqft_lot</th>\n",
              "      <th>floors</th>\n",
              "      <th>waterfront</th>\n",
              "      <th>view</th>\n",
              "      <th>condition</th>\n",
              "      <th>grade</th>\n",
              "      <th>sqft_above</th>\n",
              "      <th>sqft_basement</th>\n",
              "      <th>yr_built</th>\n",
              "      <th>yr_renovated</th>\n",
              "      <th>zipcode</th>\n",
              "      <th>lat</th>\n",
              "      <th>long</th>\n",
              "      <th>sqft_living15</th>\n",
              "      <th>sqft_lot15</th>\n",
              "    </tr>\n",
              "  </thead>\n",
              "  <tbody>\n",
              "    <tr>\n",
              "      <th>21608</th>\n",
              "      <td>263000018</td>\n",
              "      <td>360000.0</td>\n",
              "      <td>3</td>\n",
              "      <td>2.50</td>\n",
              "      <td>1530</td>\n",
              "      <td>1131</td>\n",
              "      <td>3.0</td>\n",
              "      <td>0</td>\n",
              "      <td>0</td>\n",
              "      <td>3</td>\n",
              "      <td>8</td>\n",
              "      <td>1530</td>\n",
              "      <td>0</td>\n",
              "      <td>2009</td>\n",
              "      <td>0</td>\n",
              "      <td>98103</td>\n",
              "      <td>47.6993</td>\n",
              "      <td>-122.346</td>\n",
              "      <td>1530</td>\n",
              "      <td>1509</td>\n",
              "    </tr>\n",
              "    <tr>\n",
              "      <th>21609</th>\n",
              "      <td>6600060120</td>\n",
              "      <td>400000.0</td>\n",
              "      <td>4</td>\n",
              "      <td>2.50</td>\n",
              "      <td>2310</td>\n",
              "      <td>5813</td>\n",
              "      <td>2.0</td>\n",
              "      <td>0</td>\n",
              "      <td>0</td>\n",
              "      <td>3</td>\n",
              "      <td>8</td>\n",
              "      <td>2310</td>\n",
              "      <td>0</td>\n",
              "      <td>2014</td>\n",
              "      <td>0</td>\n",
              "      <td>98146</td>\n",
              "      <td>47.5107</td>\n",
              "      <td>-122.362</td>\n",
              "      <td>1830</td>\n",
              "      <td>7200</td>\n",
              "    </tr>\n",
              "    <tr>\n",
              "      <th>21610</th>\n",
              "      <td>1523300141</td>\n",
              "      <td>402101.0</td>\n",
              "      <td>2</td>\n",
              "      <td>0.75</td>\n",
              "      <td>1020</td>\n",
              "      <td>1350</td>\n",
              "      <td>2.0</td>\n",
              "      <td>0</td>\n",
              "      <td>0</td>\n",
              "      <td>3</td>\n",
              "      <td>7</td>\n",
              "      <td>1020</td>\n",
              "      <td>0</td>\n",
              "      <td>2009</td>\n",
              "      <td>0</td>\n",
              "      <td>98144</td>\n",
              "      <td>47.5944</td>\n",
              "      <td>-122.299</td>\n",
              "      <td>1020</td>\n",
              "      <td>2007</td>\n",
              "    </tr>\n",
              "    <tr>\n",
              "      <th>21611</th>\n",
              "      <td>291310100</td>\n",
              "      <td>400000.0</td>\n",
              "      <td>3</td>\n",
              "      <td>2.50</td>\n",
              "      <td>1600</td>\n",
              "      <td>2388</td>\n",
              "      <td>2.0</td>\n",
              "      <td>0</td>\n",
              "      <td>0</td>\n",
              "      <td>3</td>\n",
              "      <td>8</td>\n",
              "      <td>1600</td>\n",
              "      <td>0</td>\n",
              "      <td>2004</td>\n",
              "      <td>0</td>\n",
              "      <td>98027</td>\n",
              "      <td>47.5345</td>\n",
              "      <td>-122.069</td>\n",
              "      <td>1410</td>\n",
              "      <td>1287</td>\n",
              "    </tr>\n",
              "    <tr>\n",
              "      <th>21612</th>\n",
              "      <td>1523300157</td>\n",
              "      <td>325000.0</td>\n",
              "      <td>2</td>\n",
              "      <td>0.75</td>\n",
              "      <td>1020</td>\n",
              "      <td>1076</td>\n",
              "      <td>2.0</td>\n",
              "      <td>0</td>\n",
              "      <td>0</td>\n",
              "      <td>3</td>\n",
              "      <td>7</td>\n",
              "      <td>1020</td>\n",
              "      <td>0</td>\n",
              "      <td>2008</td>\n",
              "      <td>0</td>\n",
              "      <td>98144</td>\n",
              "      <td>47.5941</td>\n",
              "      <td>-122.299</td>\n",
              "      <td>1020</td>\n",
              "      <td>1357</td>\n",
              "    </tr>\n",
              "  </tbody>\n",
              "</table>\n",
              "</div>"
            ],
            "text/plain": [
              "               id     price  bedrooms  ...     long  sqft_living15  sqft_lot15\n",
              "21608   263000018  360000.0         3  ... -122.346           1530        1509\n",
              "21609  6600060120  400000.0         4  ... -122.362           1830        7200\n",
              "21610  1523300141  402101.0         2  ... -122.299           1020        2007\n",
              "21611   291310100  400000.0         3  ... -122.069           1410        1287\n",
              "21612  1523300157  325000.0         2  ... -122.299           1020        1357\n",
              "\n",
              "[5 rows x 20 columns]"
            ]
          },
          "metadata": {
            "tags": []
          },
          "execution_count": 3
        }
      ]
    },
    {
      "cell_type": "code",
      "metadata": {
        "colab": {
          "base_uri": "https://localhost:8080/"
        },
        "id": "nb_FgamAYrJQ",
        "outputId": "010f0265-1819-4f42-cd37-4a051f1493a7"
      },
      "source": [
        "# Check data info\n",
        "# 21613 rows and 20 columns with most being numerical data\n",
        "\n",
        "house.info()"
      ],
      "execution_count": 4,
      "outputs": [
        {
          "output_type": "stream",
          "text": [
            "<class 'pandas.core.frame.DataFrame'>\n",
            "RangeIndex: 21613 entries, 0 to 21612\n",
            "Data columns (total 20 columns):\n",
            " #   Column         Non-Null Count  Dtype  \n",
            "---  ------         --------------  -----  \n",
            " 0   id             21613 non-null  int64  \n",
            " 1   price          21613 non-null  float64\n",
            " 2   bedrooms       21613 non-null  int64  \n",
            " 3   bathrooms      21613 non-null  float64\n",
            " 4   sqft_living    21613 non-null  int64  \n",
            " 5   sqft_lot       21613 non-null  int64  \n",
            " 6   floors         21613 non-null  float64\n",
            " 7   waterfront     21613 non-null  int64  \n",
            " 8   view           21613 non-null  int64  \n",
            " 9   condition      21613 non-null  int64  \n",
            " 10  grade          21613 non-null  int64  \n",
            " 11  sqft_above     21613 non-null  int64  \n",
            " 12  sqft_basement  21613 non-null  int64  \n",
            " 13  yr_built       21613 non-null  int64  \n",
            " 14  yr_renovated   21613 non-null  int64  \n",
            " 15  zipcode        21613 non-null  int64  \n",
            " 16  lat            21613 non-null  float64\n",
            " 17  long           21613 non-null  float64\n",
            " 18  sqft_living15  21613 non-null  int64  \n",
            " 19  sqft_lot15     21613 non-null  int64  \n",
            "dtypes: float64(5), int64(15)\n",
            "memory usage: 3.3 MB\n"
          ],
          "name": "stdout"
        }
      ]
    },
    {
      "cell_type": "markdown",
      "metadata": {
        "id": "5T2Jl143ZGy3"
      },
      "source": [
        "## 2.2 Data Preparation and Cleaning"
      ]
    },
    {
      "cell_type": "code",
      "metadata": {
        "colab": {
          "base_uri": "https://localhost:8080/"
        },
        "id": "Rpjq23GQZMPI",
        "outputId": "80b21d51-e085-4c7d-98c9-6b7d4edbc0c5"
      },
      "source": [
        "# Check for missing values\n",
        "house.isnull().sum()\n"
      ],
      "execution_count": 5,
      "outputs": [
        {
          "output_type": "execute_result",
          "data": {
            "text/plain": [
              "id               0\n",
              "price            0\n",
              "bedrooms         0\n",
              "bathrooms        0\n",
              "sqft_living      0\n",
              "sqft_lot         0\n",
              "floors           0\n",
              "waterfront       0\n",
              "view             0\n",
              "condition        0\n",
              "grade            0\n",
              "sqft_above       0\n",
              "sqft_basement    0\n",
              "yr_built         0\n",
              "yr_renovated     0\n",
              "zipcode          0\n",
              "lat              0\n",
              "long             0\n",
              "sqft_living15    0\n",
              "sqft_lot15       0\n",
              "dtype: int64"
            ]
          },
          "metadata": {
            "tags": []
          },
          "execution_count": 5
        }
      ]
    },
    {
      "cell_type": "code",
      "metadata": {
        "colab": {
          "base_uri": "https://localhost:8080/",
          "height": 162
        },
        "id": "AyF1n4UIbHXT",
        "outputId": "4e1a605a-6611-472f-d503-364ab4501c28"
      },
      "source": [
        "# Check and drop duplicates\n",
        "house[house.duplicated()]"
      ],
      "execution_count": 6,
      "outputs": [
        {
          "output_type": "execute_result",
          "data": {
            "text/html": [
              "<div>\n",
              "<style scoped>\n",
              "    .dataframe tbody tr th:only-of-type {\n",
              "        vertical-align: middle;\n",
              "    }\n",
              "\n",
              "    .dataframe tbody tr th {\n",
              "        vertical-align: top;\n",
              "    }\n",
              "\n",
              "    .dataframe thead th {\n",
              "        text-align: right;\n",
              "    }\n",
              "</style>\n",
              "<table border=\"1\" class=\"dataframe\">\n",
              "  <thead>\n",
              "    <tr style=\"text-align: right;\">\n",
              "      <th></th>\n",
              "      <th>id</th>\n",
              "      <th>price</th>\n",
              "      <th>bedrooms</th>\n",
              "      <th>bathrooms</th>\n",
              "      <th>sqft_living</th>\n",
              "      <th>sqft_lot</th>\n",
              "      <th>floors</th>\n",
              "      <th>waterfront</th>\n",
              "      <th>view</th>\n",
              "      <th>condition</th>\n",
              "      <th>grade</th>\n",
              "      <th>sqft_above</th>\n",
              "      <th>sqft_basement</th>\n",
              "      <th>yr_built</th>\n",
              "      <th>yr_renovated</th>\n",
              "      <th>zipcode</th>\n",
              "      <th>lat</th>\n",
              "      <th>long</th>\n",
              "      <th>sqft_living15</th>\n",
              "      <th>sqft_lot15</th>\n",
              "    </tr>\n",
              "  </thead>\n",
              "  <tbody>\n",
              "    <tr>\n",
              "      <th>3951</th>\n",
              "      <td>1825069031</td>\n",
              "      <td>550000.0</td>\n",
              "      <td>4</td>\n",
              "      <td>1.75</td>\n",
              "      <td>2410</td>\n",
              "      <td>8447</td>\n",
              "      <td>2.0</td>\n",
              "      <td>0</td>\n",
              "      <td>3</td>\n",
              "      <td>4</td>\n",
              "      <td>8</td>\n",
              "      <td>2060</td>\n",
              "      <td>350</td>\n",
              "      <td>1936</td>\n",
              "      <td>1980</td>\n",
              "      <td>98074</td>\n",
              "      <td>47.6499</td>\n",
              "      <td>-122.088</td>\n",
              "      <td>2520</td>\n",
              "      <td>14789</td>\n",
              "    </tr>\n",
              "    <tr>\n",
              "      <th>14983</th>\n",
              "      <td>6308000010</td>\n",
              "      <td>585000.0</td>\n",
              "      <td>3</td>\n",
              "      <td>2.50</td>\n",
              "      <td>2290</td>\n",
              "      <td>5089</td>\n",
              "      <td>2.0</td>\n",
              "      <td>0</td>\n",
              "      <td>0</td>\n",
              "      <td>3</td>\n",
              "      <td>9</td>\n",
              "      <td>2290</td>\n",
              "      <td>0</td>\n",
              "      <td>2001</td>\n",
              "      <td>0</td>\n",
              "      <td>98006</td>\n",
              "      <td>47.5443</td>\n",
              "      <td>-122.172</td>\n",
              "      <td>2290</td>\n",
              "      <td>7984</td>\n",
              "    </tr>\n",
              "    <tr>\n",
              "      <th>20054</th>\n",
              "      <td>8648900110</td>\n",
              "      <td>555000.0</td>\n",
              "      <td>3</td>\n",
              "      <td>2.50</td>\n",
              "      <td>1940</td>\n",
              "      <td>3211</td>\n",
              "      <td>2.0</td>\n",
              "      <td>0</td>\n",
              "      <td>0</td>\n",
              "      <td>3</td>\n",
              "      <td>8</td>\n",
              "      <td>1940</td>\n",
              "      <td>0</td>\n",
              "      <td>2009</td>\n",
              "      <td>0</td>\n",
              "      <td>98027</td>\n",
              "      <td>47.5644</td>\n",
              "      <td>-122.093</td>\n",
              "      <td>1880</td>\n",
              "      <td>3078</td>\n",
              "    </tr>\n",
              "  </tbody>\n",
              "</table>\n",
              "</div>"
            ],
            "text/plain": [
              "               id     price  bedrooms  ...     long  sqft_living15  sqft_lot15\n",
              "3951   1825069031  550000.0         4  ... -122.088           2520       14789\n",
              "14983  6308000010  585000.0         3  ... -122.172           2290        7984\n",
              "20054  8648900110  555000.0         3  ... -122.093           1880        3078\n",
              "\n",
              "[3 rows x 20 columns]"
            ]
          },
          "metadata": {
            "tags": []
          },
          "execution_count": 6
        }
      ]
    },
    {
      "cell_type": "code",
      "metadata": {
        "colab": {
          "base_uri": "https://localhost:8080/"
        },
        "id": "r25kjULjcz6w",
        "outputId": "da660705-6fc0-44cd-da4d-440dc87566dc"
      },
      "source": [
        "house.drop_duplicates(inplace=True)\n",
        "house.duplicated().value_counts()"
      ],
      "execution_count": 7,
      "outputs": [
        {
          "output_type": "execute_result",
          "data": {
            "text/plain": [
              "False    21610\n",
              "dtype: int64"
            ]
          },
          "metadata": {
            "tags": []
          },
          "execution_count": 7
        }
      ]
    },
    {
      "cell_type": "code",
      "metadata": {
        "id": "MHclDJgahFuM"
      },
      "source": [
        ""
      ],
      "execution_count": 7,
      "outputs": []
    },
    {
      "cell_type": "markdown",
      "metadata": {
        "id": "wBdKkkCz6WJ4"
      },
      "source": [
        "### 2.2.1 Change datatypes"
      ]
    },
    {
      "cell_type": "code",
      "metadata": {
        "id": "Lk8pvmL2hEKk"
      },
      "source": [
        "# we'll convert the 'bathrooms' and 'floors' variables from float to int\n",
        "# This is because the number of bathrooms and bedrooms is supposed to be a whole number\n",
        "# Also change select variables to category and string datatypes\n",
        "\n",
        "house['bathrooms'] = house['bathrooms'].astype('int64')\n",
        "house['floors'] = house['floors'].astype('int64')\n",
        "house['zipcode'] = house['zipcode'].astype(str)"
      ],
      "execution_count": 8,
      "outputs": []
    },
    {
      "cell_type": "code",
      "metadata": {
        "colab": {
          "base_uri": "https://localhost:8080/",
          "height": 1000
        },
        "id": "jetPI08edZpU",
        "outputId": "dafdaea0-f603-4703-b6e2-e68afcef6de8"
      },
      "source": [
        "#Checking for outliers\n",
        "columns_dict={'price':1, 'bedrooms':2, 'bathrooms':3, 'sqft_living':4, 'sqft_lot':5,\n",
        "       'floors':6, 'waterfront':7, 'view':8, 'condition':9, 'grade':10, 'sqft_above':11,\n",
        "       'sqft_basement':12, 'yr_built':13, 'yr_renovated':14, 'lat':16, 'long':17,\n",
        "       'sqft_living15':18, 'sqft_lot15':15}\n",
        "plt.figure(figsize=(15,20))\n",
        "# make a boxplot for each numerical column\n",
        "for variable,i in columns_dict.items():\n",
        "  plt.subplot(5,4,i)\n",
        "  plt.boxplot(house[variable])\n",
        "  plt.title(variable)\n",
        "plt.show()\n",
        "\n"
      ],
      "execution_count": 9,
      "outputs": [
        {
          "output_type": "display_data",
          "data": {
            "image/png": "[encoded data removed]",
            "text/plain": [
              "<Figure size 1080x1440 with 18 Axes>"
            ]
          },
          "metadata": {
            "tags": [],
            "needs_background": "light"
          }
        }
      ]
    },
    {
      "cell_type": "markdown",
      "metadata": {
        "id": "9v3TgDcwer8s"
      },
      "source": [
        "We have a lot of outliers. Since the real estate sector has values ranging from the low to the high values, we shall not remove them.\n",
        "A real estate expert can give a better understanding of the range of data and how we can reduce the outliers\n",
        "\n",
        "Of interest, are the number of bedrooms."
      ]
    },
    {
      "cell_type": "code",
      "metadata": {
        "colab": {
          "base_uri": "https://localhost:8080/"
        },
        "id": "vEImcYe6j9J5",
        "outputId": "5962c58b-6038-4814-bb52-9d1c56a3f3ae"
      },
      "source": [
        "print('Bedrooms= ',house['bedrooms'].unique())\n",
        "\n",
        "# Checking for the outliers we get 33, an anomaly"
      ],
      "execution_count": 10,
      "outputs": [
        {
          "output_type": "stream",
          "text": [
            "Bedrooms=  [ 3  2  4  5  1  6  7  0  8  9 11 10 33]\n"
          ],
          "name": "stdout"
        }
      ]
    },
    {
      "cell_type": "code",
      "metadata": {
        "colab": {
          "base_uri": "https://localhost:8080/",
          "height": 100
        },
        "id": "BrCpKivWkvBm",
        "outputId": "2a44f41c-a0dd-432e-ba20-0103d9dd541e"
      },
      "source": [
        "house[house['bedrooms']==33]"
      ],
      "execution_count": 11,
      "outputs": [
        {
          "output_type": "execute_result",
          "data": {
            "text/html": [
              "<div>\n",
              "<style scoped>\n",
              "    .dataframe tbody tr th:only-of-type {\n",
              "        vertical-align: middle;\n",
              "    }\n",
              "\n",
              "    .dataframe tbody tr th {\n",
              "        vertical-align: top;\n",
              "    }\n",
              "\n",
              "    .dataframe thead th {\n",
              "        text-align: right;\n",
              "    }\n",
              "</style>\n",
              "<table border=\"1\" class=\"dataframe\">\n",
              "  <thead>\n",
              "    <tr style=\"text-align: right;\">\n",
              "      <th></th>\n",
              "      <th>id</th>\n",
              "      <th>price</th>\n",
              "      <th>bedrooms</th>\n",
              "      <th>bathrooms</th>\n",
              "      <th>sqft_living</th>\n",
              "      <th>sqft_lot</th>\n",
              "      <th>floors</th>\n",
              "      <th>waterfront</th>\n",
              "      <th>view</th>\n",
              "      <th>condition</th>\n",
              "      <th>grade</th>\n",
              "      <th>sqft_above</th>\n",
              "      <th>sqft_basement</th>\n",
              "      <th>yr_built</th>\n",
              "      <th>yr_renovated</th>\n",
              "      <th>zipcode</th>\n",
              "      <th>lat</th>\n",
              "      <th>long</th>\n",
              "      <th>sqft_living15</th>\n",
              "      <th>sqft_lot15</th>\n",
              "    </tr>\n",
              "  </thead>\n",
              "  <tbody>\n",
              "    <tr>\n",
              "      <th>15870</th>\n",
              "      <td>2402100895</td>\n",
              "      <td>640000.0</td>\n",
              "      <td>33</td>\n",
              "      <td>1</td>\n",
              "      <td>1620</td>\n",
              "      <td>6000</td>\n",
              "      <td>1</td>\n",
              "      <td>0</td>\n",
              "      <td>0</td>\n",
              "      <td>5</td>\n",
              "      <td>7</td>\n",
              "      <td>1040</td>\n",
              "      <td>580</td>\n",
              "      <td>1947</td>\n",
              "      <td>0</td>\n",
              "      <td>98103</td>\n",
              "      <td>47.6878</td>\n",
              "      <td>-122.331</td>\n",
              "      <td>1330</td>\n",
              "      <td>4700</td>\n",
              "    </tr>\n",
              "  </tbody>\n",
              "</table>\n",
              "</div>"
            ],
            "text/plain": [
              "               id     price  bedrooms  ...     long  sqft_living15  sqft_lot15\n",
              "15870  2402100895  640000.0        33  ... -122.331           1330        4700\n",
              "\n",
              "[1 rows x 20 columns]"
            ]
          },
          "metadata": {
            "tags": []
          },
          "execution_count": 11
        }
      ]
    },
    {
      "cell_type": "code",
      "metadata": {
        "colab": {
          "base_uri": "https://localhost:8080/"
        },
        "id": "tnyBCWwblIor",
        "outputId": "1e07223c-a817-4345-d939-4b743e092883"
      },
      "source": [
        "# The house has 1 bathroom and a sqft of 1620 which is not ideal for a 33bedroomed house from logic\n",
        "# We assume a typing error and change the bedrooms no to 3\n",
        "house['bedrooms'] = house['bedrooms'].replace([33],3)\n",
        "house['bedrooms'].unique()"
      ],
      "execution_count": 12,
      "outputs": [
        {
          "output_type": "execute_result",
          "data": {
            "text/plain": [
              "array([ 3,  2,  4,  5,  1,  6,  7,  0,  8,  9, 11, 10])"
            ]
          },
          "metadata": {
            "tags": []
          },
          "execution_count": 12
        }
      ]
    },
    {
      "cell_type": "code",
      "metadata": {
        "colab": {
          "base_uri": "https://localhost:8080/"
        },
        "id": "C9CkTRK-7ap0",
        "outputId": "7c944a2c-cc15-43fa-eae3-d8e79f9a3b00"
      },
      "source": [
        "house['view'].value_counts()"
      ],
      "execution_count": 13,
      "outputs": [
        {
          "output_type": "execute_result",
          "data": {
            "text/plain": [
              "0    19487\n",
              "2      963\n",
              "3      509\n",
              "1      332\n",
              "4      319\n",
              "Name: view, dtype: int64"
            ]
          },
          "metadata": {
            "tags": []
          },
          "execution_count": 13
        }
      ]
    },
    {
      "cell_type": "markdown",
      "metadata": {
        "id": "4M_EefzCPkfX"
      },
      "source": [
        "According to the description of that column, it is \"an index from 1 to 13, where 1-3 falls short of building construction and design, 7 has an average level of construction and design,and 11-13 have a high quality level of construction and design\".\n",
        "\n",
        "This column's values will have the following grades:\n",
        "\n",
        "    - Values 1-3 will be in grade 'E'\n",
        "    - Values 4-6 will be in grade 'D'\n",
        "    - Values 7 will be in grade 'C'\n",
        "    - Values 8-10 will be in grade 'B'\n",
        "    - Values 11-13 will be in grade 'A'\n"
      ]
    },
    {
      "cell_type": "code",
      "metadata": {
        "id": "d07MeJrpPxPr"
      },
      "source": [
        "house['grade'].mask((house['grade'] == 1), 'E', inplace = True)\n",
        "house['grade'].mask((house['grade'] == 2), 'E', inplace = True)\n",
        "house['grade'].mask((house['grade'] == 3), 'E', inplace = True)\n",
        "house['grade'].mask((house['grade'] == 4), 'D', inplace = True)\n",
        "house['grade'].mask((house['grade'] == 5), 'D', inplace = True)\n",
        "house['grade'].mask((house['grade'] == 6), 'D', inplace = True)\n",
        "house['grade'].mask((house['grade'] == 7), 'C', inplace = True)\n",
        "house['grade'].mask((house['grade'] == 8), 'B', inplace = True)\n",
        "house['grade'].mask((house['grade'] == 9), 'B', inplace = True)\n",
        "house['grade'].mask((house['grade'] == 10), 'B', inplace = True)\n",
        "house['grade'].mask((house['grade'] == 11), 'A', inplace = True)\n",
        "house['grade'].mask((house['grade'] == 12), 'A', inplace = True)\n",
        "house['grade'].mask((house['grade'] == 13), 'A', inplace = True)"
      ],
      "execution_count": 14,
      "outputs": []
    },
    {
      "cell_type": "code",
      "metadata": {
        "id": "PdiXS7NFlhdC"
      },
      "source": [
        "# We Drop unnecessary Columns\n",
        "house.drop(columns=['id','sqft_living15', 'sqft_lot15','view','yr_built','yr_renovated'],inplace=True)"
      ],
      "execution_count": 15,
      "outputs": []
    },
    {
      "cell_type": "markdown",
      "metadata": {
        "id": "RCij1RFqfyFZ"
      },
      "source": [
        "## 3. Exploratory Data Analysis"
      ]
    },
    {
      "cell_type": "code",
      "metadata": {
        "colab": {
          "base_uri": "https://localhost:8080/",
          "height": 937
        },
        "id": "IKvCEambfw6P",
        "outputId": "1ab3120c-f753-4ee0-dad3-da85c0fcd623"
      },
      "source": [
        "# Plot histograms\n",
        "df1 = house.select_dtypes(include = ['int64', 'float64'])\n",
        "df1.hist(figsize = (15, 12))"
      ],
      "execution_count": 16,
      "outputs": [
        {
          "output_type": "execute_result",
          "data": {
            "text/plain": [
              "array([[<matplotlib.axes._subplots.AxesSubplot object at 0x7fce83db4b10>,\n",
              "        <matplotlib.axes._subplots.AxesSubplot object at 0x7fce83dd5110>,\n",
              "        <matplotlib.axes._subplots.AxesSubplot object at 0x7fce83d88790>],\n",
              "       [<matplotlib.axes._subplots.AxesSubplot object at 0x7fce83d3de10>,\n",
              "        <matplotlib.axes._subplots.AxesSubplot object at 0x7fce83d014d0>,\n",
              "        <matplotlib.axes._subplots.AxesSubplot object at 0x7fce83cb6b50>],\n",
              "       [<matplotlib.axes._subplots.AxesSubplot object at 0x7fce83c7a290>,\n",
              "        <matplotlib.axes._subplots.AxesSubplot object at 0x7fce83cae850>,\n",
              "        <matplotlib.axes._subplots.AxesSubplot object at 0x7fce83cae890>],\n",
              "       [<matplotlib.axes._subplots.AxesSubplot object at 0x7fce83c6f050>,\n",
              "        <matplotlib.axes._subplots.AxesSubplot object at 0x7fce83bdcc50>,\n",
              "        <matplotlib.axes._subplots.AxesSubplot object at 0x7fce83ba1310>]],\n",
              "      dtype=object)"
            ]
          },
          "metadata": {
            "tags": []
          },
          "execution_count": 16
        },
        {
          "output_type": "display_data",
          "data": {
            "image/png": "[encoded data removed]",
            "text/plain": [
              "<Figure size 1080x864 with 12 Axes>"
            ]
          },
          "metadata": {
            "tags": [],
            "needs_background": "light"
          }
        }
      ]
    },
    {
      "cell_type": "code",
      "metadata": {
        "colab": {
          "base_uri": "https://localhost:8080/",
          "height": 301
        },
        "id": "2RXVFj08ixsx",
        "outputId": "0737ddaf-cf04-4163-cb53-6c16a721e648"
      },
      "source": [
        "#Number of bedrooms in different houses\n",
        "house['bedrooms'].value_counts().plot.bar(title='No of bedrooms')"
      ],
      "execution_count": 17,
      "outputs": [
        {
          "output_type": "execute_result",
          "data": {
            "text/plain": [
              "<matplotlib.axes._subplots.AxesSubplot at 0x7fce8381f2d0>"
            ]
          },
          "metadata": {
            "tags": []
          },
          "execution_count": 17
        },
        {
          "output_type": "display_data",
          "data": {
            "image/png": "[encoded data removed]",
            "text/plain": [
              "<Figure size 432x288 with 1 Axes>"
            ]
          },
          "metadata": {
            "tags": [],
            "needs_background": "light"
          }
        }
      ]
    },
    {
      "cell_type": "markdown",
      "metadata": {
        "id": "8nWO-hj1i9Fx"
      },
      "source": [
        "Most of the houses sold purchased were 3 bedroomed houses. few people purchsed the one bedrooms houses"
      ]
    },
    {
      "cell_type": "code",
      "metadata": {
        "colab": {
          "base_uri": "https://localhost:8080/",
          "height": 295
        },
        "id": "CEek8vA2jM5F",
        "outputId": "64d5668b-57b5-4cac-815f-c73246cf2c13"
      },
      "source": [
        "# House condition\n",
        "house['condition'].value_counts().plot.bar(title='Condition of houses')"
      ],
      "execution_count": 18,
      "outputs": [
        {
          "output_type": "execute_result",
          "data": {
            "text/plain": [
              "<matplotlib.axes._subplots.AxesSubplot at 0x7fce837b1950>"
            ]
          },
          "metadata": {
            "tags": []
          },
          "execution_count": 18
        },
        {
          "output_type": "display_data",
          "data": {
            "image/png": "[encoded data removed]",
            "text/plain": [
              "<Figure size 432x288 with 1 Axes>"
            ]
          },
          "metadata": {
            "tags": [],
            "needs_background": "light"
          }
        }
      ]
    },
    {
      "cell_type": "code",
      "metadata": {
        "colab": {
          "base_uri": "https://localhost:8080/",
          "height": 295
        },
        "id": "tXKYgRlmmxBW",
        "outputId": "a6fb6792-fae7-460a-effb-09a9e299898d"
      },
      "source": [
        "# House condition\n",
        "house['floors'].value_counts().plot.bar(title='No of Floors')"
      ],
      "execution_count": 19,
      "outputs": [
        {
          "output_type": "execute_result",
          "data": {
            "text/plain": [
              "<matplotlib.axes._subplots.AxesSubplot at 0x7fce83738a50>"
            ]
          },
          "metadata": {
            "tags": []
          },
          "execution_count": 19
        },
        {
          "output_type": "display_data",
          "data": {
            "image/png": "[encoded data removed]",
            "text/plain": [
              "<Figure size 432x288 with 1 Axes>"
            ]
          },
          "metadata": {
            "tags": [],
            "needs_background": "light"
          }
        }
      ]
    },
    {
      "cell_type": "code",
      "metadata": {
        "id": "MsBEfKBiP7e0",
        "outputId": "920a846a-dbbc-4991-f07c-34a08c4a9e08",
        "colab": {
          "base_uri": "https://localhost:8080/",
          "height": 282
        }
      },
      "source": [
        "# distribution of the different grades\n",
        "house.grade.value_counts().plot(kind = 'pie', autopct = '%0.1f%%',subplots = True)"
      ],
      "execution_count": 20,
      "outputs": [
        {
          "output_type": "execute_result",
          "data": {
            "text/plain": [
              "array([<matplotlib.axes._subplots.AxesSubplot object at 0x7fce861a9e10>],\n",
              "      dtype=object)"
            ]
          },
          "metadata": {
            "tags": []
          },
          "execution_count": 20
        },
        {
          "output_type": "display_data",
          "data": {
            "image/png": "[encoded data removed]",
            "text/plain": [
              "<Figure size 432x288 with 1 Axes>"
            ]
          },
          "metadata": {
            "tags": []
          }
        }
      ]
    },
    {
      "cell_type": "code",
      "metadata": {
        "colab": {
          "base_uri": "https://localhost:8080/",
          "height": 296
        },
        "id": "PUzatbtCofYd",
        "outputId": "1576517f-a732-44d2-c0ef-07943f931825"
      },
      "source": [
        "# Check distribution of our dependent variable, Price\n",
        "sns.distplot(house['price'], kde = False, color ='brown', bins = 100)"
      ],
      "execution_count": 21,
      "outputs": [
        {
          "output_type": "execute_result",
          "data": {
            "text/plain": [
              "<matplotlib.axes._subplots.AxesSubplot at 0x7fce86be3510>"
            ]
          },
          "metadata": {
            "tags": []
          },
          "execution_count": 21
        },
        {
          "output_type": "display_data",
          "data": {
            "image/png": "[encoded data removed]",
            "text/plain": [
              "<Figure size 432x288 with 1 Axes>"
            ]
          },
          "metadata": {
            "tags": [],
            "needs_background": "light"
          }
        }
      ]
    },
    {
      "cell_type": "code",
      "metadata": {
        "colab": {
          "base_uri": "https://localhost:8080/"
        },
        "id": "0xyIPZmjo8q0",
        "outputId": "9efa8840-d589-40d8-ade1-ffe3eefcca35"
      },
      "source": [
        "print('Skewness= ',house['price'].skew())\n",
        "print('Kurtosis= ',house['price'].kurt())"
      ],
      "execution_count": 22,
      "outputs": [
        {
          "output_type": "stream",
          "text": [
            "Skewness=  4.021467451317612\n",
            "Kurtosis=  34.517437729615054\n"
          ],
          "name": "stdout"
        }
      ]
    },
    {
      "cell_type": "markdown",
      "metadata": {
        "id": "-O4EfNkkpbfZ"
      },
      "source": [
        "We see that this is positively skewed and We got a kurtosis value of approximately 34.5 which proves that the distribution is leptokurtic\n",
        "\n",
        "This shows most houses purchased are affordable. There are outliers which are expected because high-valued houses tend to be fewer\n"
      ]
    },
    {
      "cell_type": "markdown",
      "metadata": {
        "id": "vF_1eWk0nKqg"
      },
      "source": [
        "Bivariate Analysis"
      ]
    },
    {
      "cell_type": "code",
      "metadata": {
        "colab": {
          "base_uri": "https://localhost:8080/",
          "height": 312
        },
        "id": "3SbGCW0Vnq-H",
        "outputId": "c6f4ab3c-7e37-4211-f632-81041fffb5ee"
      },
      "source": [
        "# investigating the effect of number of bedrooms on the price of the house\n",
        "plt.scatter(house.bedrooms, house.price.values)\n",
        "plt.xlabel(\"Number of Bedrooms\")\n",
        "plt.ylabel(\"Price\")\n",
        "plt.title(\"Price per Number of Bedrooms\")"
      ],
      "execution_count": 23,
      "outputs": [
        {
          "output_type": "execute_result",
          "data": {
            "text/plain": [
              "Text(0.5, 1.0, 'Price per Number of Bedrooms')"
            ]
          },
          "metadata": {
            "tags": []
          },
          "execution_count": 23
        },
        {
          "output_type": "display_data",
          "data": {
            "image/png": "[encoded data removed]",
            "text/plain": [
              "<Figure size 432x288 with 1 Axes>"
            ]
          },
          "metadata": {
            "tags": [],
            "needs_background": "light"
          }
        }
      ]
    },
    {
      "cell_type": "markdown",
      "metadata": {
        "id": "y817Z93Fn5ws"
      },
      "source": [
        "Simply, house prices increased somewhat with the number of bedrooms indicating a positive relationship"
      ]
    },
    {
      "cell_type": "code",
      "metadata": {
        "colab": {
          "base_uri": "https://localhost:8080/",
          "height": 312
        },
        "id": "nNK2-ccToInR",
        "outputId": "0ad9b733-4f94-4cb3-a7cb-ba9ff7bfa5b7"
      },
      "source": [
        "# investigating whether there is a relationship between the number of bathrooms and the price\n",
        "plt.scatter(house.bathrooms, house.price.values)\n",
        "plt.xlabel(\"Number of Bathrooms\")\n",
        "plt.ylabel(\"Price\")\n",
        "plt.title(\"Price per Number of Bathrooms\")\n",
        "\n"
      ],
      "execution_count": 24,
      "outputs": [
        {
          "output_type": "execute_result",
          "data": {
            "text/plain": [
              "Text(0.5, 1.0, 'Price per Number of Bathrooms')"
            ]
          },
          "metadata": {
            "tags": []
          },
          "execution_count": 24
        },
        {
          "output_type": "display_data",
          "data": {
            "image/png": "[encoded data removed]",
            "text/plain": [
              "<Figure size 432x288 with 1 Axes>"
            ]
          },
          "metadata": {
            "tags": [],
            "needs_background": "light"
          }
        }
      ]
    },
    {
      "cell_type": "markdown",
      "metadata": {
        "id": "OcCDuD7NoOtO"
      },
      "source": [
        "There is a somewhat positive relationship between price and the number of bathrooms. However, here the relationship appears to be a lot stronger than the one between price and the number of bedrooms"
      ]
    },
    {
      "cell_type": "markdown",
      "metadata": {
        "id": "9aeo4qQSWzPw"
      },
      "source": [
        "3.Feature engineering\n",
        "\n",
        "\n",
        "\n",
        "We need to encode the 'grade' column so that there will not be any issues while training the model that might arise due to the presence of a categorical variable in the dataset.\n"
      ]
    },
    {
      "cell_type": "code",
      "metadata": {
        "id": "q7O0uP8kXjtu"
      },
      "source": [
        "# Import label encoder\n",
        "from sklearn import preprocessing\n",
        "  \n",
        "# label_encoder object knows how to understand word labels.\n",
        "label_encoder = preprocessing.LabelEncoder()\n",
        "  \n",
        "# Encode labels in column 'species'.\n",
        "house['grade']= label_encoder.fit_transform(house['grade'])"
      ],
      "execution_count": 25,
      "outputs": []
    },
    {
      "cell_type": "markdown",
      "metadata": {
        "id": "IBJemHt1vweW"
      },
      "source": [
        "##4. Modeling\n"
      ]
    },
    {
      "cell_type": "markdown",
      "metadata": {
        "id": "WdZQ0nwAwA9G"
      },
      "source": [
        "##4.1 Multiple Linear Regression\n",
        "\n",
        "**Assumptions for MLR and Feature Engineering**\n",
        "\n",
        "    1. There should be a linear relationship between the independent variables and the dependent variable\n",
        "    2. There should be little to no auto-correlation\n",
        "    3. There should be little to no multicollinearity\n",
        "    4. There should not be any outliers    \n",
        "    5. There should be no heteroscedasticity    \n",
        "    6. The sample observations should be independent of each other.\n"
      ]
    },
    {
      "cell_type": "code",
      "metadata": {
        "id": "E6py_Yf2wCOY"
      },
      "source": [
        "# Check for Multicollinearity"
      ],
      "execution_count": 26,
      "outputs": []
    },
    {
      "cell_type": "code",
      "metadata": {
        "colab": {
          "base_uri": "https://localhost:8080/",
          "height": 1000
        },
        "id": "SopXrLqWxg2y",
        "outputId": "dc69ff33-c484-45e4-f94f-8ae1ca3d19ad"
      },
      "source": [
        "#Checking that The relationship between independent and dependent variables should be linear \n",
        "columns_dict={'bedrooms':1, 'bathrooms':2, 'sqft_living':3, 'sqft_lot':4,\n",
        "       'floors':5, 'waterfront':6,  'condition':7, 'grade':8, 'sqft_above':9,\n",
        "       'sqft_basement':10,'lat':11, 'long':12}\n",
        "plt.figure(figsize=(20,30))\n",
        "# make a boxplot for each numerical column\n",
        "for variable,i in columns_dict.items():\n",
        "  plt.subplot(5,4,i)\n",
        "  plt.scatter(house [variable], house['price'])\n",
        "  plt.title(variable)\n",
        "plt.show()\n",
        "\n"
      ],
      "execution_count": 27,
      "outputs": [
        {
          "output_type": "display_data",
          "data": {
            "image/png": "[encoded data removed]",
            "text/plain": [
              "<Figure size 1440x2160 with 12 Axes>"
            ]
          },
          "metadata": {
            "tags": [],
            "needs_background": "light"
          }
        }
      ]
    },
    {
      "cell_type": "markdown",
      "metadata": {
        "id": "JMpiN34L1XHo"
      },
      "source": [
        "From the scatter plots above we can see that the some attributes have a linear relationship with the target variable price. A number of independent variables violate this assumptions\n"
      ]
    },
    {
      "cell_type": "code",
      "metadata": {
        "colab": {
          "base_uri": "https://localhost:8080/"
        },
        "id": "8eu0Wgk7eTrE",
        "outputId": "184b045d-6821-4dbc-8794-33fe9e42230e"
      },
      "source": [
        "house.waterfront.value_counts()"
      ],
      "execution_count": 28,
      "outputs": [
        {
          "output_type": "execute_result",
          "data": {
            "text/plain": [
              "0    21447\n",
              "1      163\n",
              "Name: waterfront, dtype: int64"
            ]
          },
          "metadata": {
            "tags": []
          },
          "execution_count": 28
        }
      ]
    },
    {
      "cell_type": "code",
      "metadata": {
        "colab": {
          "base_uri": "https://localhost:8080/",
          "height": 421
        },
        "id": "Q9PU3Q2TwSO7",
        "outputId": "19b109e6-4c47-4136-8b04-dbf005cbe979"
      },
      "source": [
        "# Check correlation of the independent variables\n",
        "factors= house.drop(['price'],axis=1)\n",
        "corr=factors.corr()\n",
        "corr"
      ],
      "execution_count": 29,
      "outputs": [
        {
          "output_type": "execute_result",
          "data": {
            "text/html": [
              "<div>\n",
              "<style scoped>\n",
              "    .dataframe tbody tr th:only-of-type {\n",
              "        vertical-align: middle;\n",
              "    }\n",
              "\n",
              "    .dataframe tbody tr th {\n",
              "        vertical-align: top;\n",
              "    }\n",
              "\n",
              "    .dataframe thead th {\n",
              "        text-align: right;\n",
              "    }\n",
              "</style>\n",
              "<table border=\"1\" class=\"dataframe\">\n",
              "  <thead>\n",
              "    <tr style=\"text-align: right;\">\n",
              "      <th></th>\n",
              "      <th>bedrooms</th>\n",
              "      <th>bathrooms</th>\n",
              "      <th>sqft_living</th>\n",
              "      <th>sqft_lot</th>\n",
              "      <th>floors</th>\n",
              "      <th>waterfront</th>\n",
              "      <th>condition</th>\n",
              "      <th>grade</th>\n",
              "      <th>sqft_above</th>\n",
              "      <th>sqft_basement</th>\n",
              "      <th>lat</th>\n",
              "      <th>long</th>\n",
              "    </tr>\n",
              "  </thead>\n",
              "  <tbody>\n",
              "    <tr>\n",
              "      <th>bedrooms</th>\n",
              "      <td>1.000000</td>\n",
              "      <td>0.480457</td>\n",
              "      <td>0.591475</td>\n",
              "      <td>0.032807</td>\n",
              "      <td>0.160687</td>\n",
              "      <td>-0.006610</td>\n",
              "      <td>0.025377</td>\n",
              "      <td>-0.350692</td>\n",
              "      <td>0.490625</td>\n",
              "      <td>0.309456</td>\n",
              "      <td>-0.010581</td>\n",
              "      <td>0.133896</td>\n",
              "    </tr>\n",
              "    <tr>\n",
              "      <th>bathrooms</th>\n",
              "      <td>0.480457</td>\n",
              "      <td>1.000000</td>\n",
              "      <td>0.697914</td>\n",
              "      <td>0.085313</td>\n",
              "      <td>0.484886</td>\n",
              "      <td>0.058799</td>\n",
              "      <td>-0.125962</td>\n",
              "      <td>-0.552834</td>\n",
              "      <td>0.639963</td>\n",
              "      <td>0.250920</td>\n",
              "      <td>0.031385</td>\n",
              "      <td>0.179387</td>\n",
              "    </tr>\n",
              "    <tr>\n",
              "      <th>sqft_living</th>\n",
              "      <td>0.591475</td>\n",
              "      <td>0.697914</td>\n",
              "      <td>1.000000</td>\n",
              "      <td>0.172830</td>\n",
              "      <td>0.353327</td>\n",
              "      <td>0.103820</td>\n",
              "      <td>-0.058768</td>\n",
              "      <td>-0.645519</td>\n",
              "      <td>0.876600</td>\n",
              "      <td>0.435054</td>\n",
              "      <td>0.052521</td>\n",
              "      <td>0.240221</td>\n",
              "    </tr>\n",
              "    <tr>\n",
              "      <th>sqft_lot</th>\n",
              "      <td>0.032807</td>\n",
              "      <td>0.085313</td>\n",
              "      <td>0.172830</td>\n",
              "      <td>1.000000</td>\n",
              "      <td>-0.008919</td>\n",
              "      <td>0.021601</td>\n",
              "      <td>-0.008967</td>\n",
              "      <td>-0.076163</td>\n",
              "      <td>0.183527</td>\n",
              "      <td>0.015271</td>\n",
              "      <td>-0.085680</td>\n",
              "      <td>0.229552</td>\n",
              "    </tr>\n",
              "    <tr>\n",
              "      <th>floors</th>\n",
              "      <td>0.160687</td>\n",
              "      <td>0.484886</td>\n",
              "      <td>0.353327</td>\n",
              "      <td>-0.008919</td>\n",
              "      <td>1.000000</td>\n",
              "      <td>0.019654</td>\n",
              "      <td>-0.293188</td>\n",
              "      <td>-0.476790</td>\n",
              "      <td>0.517903</td>\n",
              "      <td>-0.235802</td>\n",
              "      <td>0.029543</td>\n",
              "      <td>0.158923</td>\n",
              "    </tr>\n",
              "    <tr>\n",
              "      <th>waterfront</th>\n",
              "      <td>-0.006610</td>\n",
              "      <td>0.058799</td>\n",
              "      <td>0.103820</td>\n",
              "      <td>0.021601</td>\n",
              "      <td>0.019654</td>\n",
              "      <td>1.000000</td>\n",
              "      <td>0.016652</td>\n",
              "      <td>-0.056642</td>\n",
              "      <td>0.072080</td>\n",
              "      <td>0.080585</td>\n",
              "      <td>-0.014272</td>\n",
              "      <td>-0.041904</td>\n",
              "    </tr>\n",
              "    <tr>\n",
              "      <th>condition</th>\n",
              "      <td>0.025377</td>\n",
              "      <td>-0.125962</td>\n",
              "      <td>-0.058768</td>\n",
              "      <td>-0.008967</td>\n",
              "      <td>-0.293188</td>\n",
              "      <td>0.016652</td>\n",
              "      <td>1.000000</td>\n",
              "      <td>0.139462</td>\n",
              "      <td>-0.158212</td>\n",
              "      <td>0.174071</td>\n",
              "      <td>-0.014971</td>\n",
              "      <td>-0.106512</td>\n",
              "    </tr>\n",
              "    <tr>\n",
              "      <th>grade</th>\n",
              "      <td>-0.350692</td>\n",
              "      <td>-0.552834</td>\n",
              "      <td>-0.645519</td>\n",
              "      <td>-0.076163</td>\n",
              "      <td>-0.476790</td>\n",
              "      <td>-0.056642</td>\n",
              "      <td>0.139462</td>\n",
              "      <td>1.000000</td>\n",
              "      <td>-0.629971</td>\n",
              "      <td>-0.160882</td>\n",
              "      <td>-0.106191</td>\n",
              "      <td>-0.179029</td>\n",
              "    </tr>\n",
              "    <tr>\n",
              "      <th>sqft_above</th>\n",
              "      <td>0.490625</td>\n",
              "      <td>0.639963</td>\n",
              "      <td>0.876600</td>\n",
              "      <td>0.183527</td>\n",
              "      <td>0.517903</td>\n",
              "      <td>0.072080</td>\n",
              "      <td>-0.158212</td>\n",
              "      <td>-0.629971</td>\n",
              "      <td>1.000000</td>\n",
              "      <td>-0.051923</td>\n",
              "      <td>-0.000823</td>\n",
              "      <td>0.343791</td>\n",
              "    </tr>\n",
              "    <tr>\n",
              "      <th>sqft_basement</th>\n",
              "      <td>0.309456</td>\n",
              "      <td>0.250920</td>\n",
              "      <td>0.435054</td>\n",
              "      <td>0.015271</td>\n",
              "      <td>-0.235802</td>\n",
              "      <td>0.080585</td>\n",
              "      <td>0.174071</td>\n",
              "      <td>-0.160882</td>\n",
              "      <td>-0.051923</td>\n",
              "      <td>1.000000</td>\n",
              "      <td>0.110535</td>\n",
              "      <td>-0.144743</td>\n",
              "    </tr>\n",
              "    <tr>\n",
              "      <th>lat</th>\n",
              "      <td>-0.010581</td>\n",
              "      <td>0.031385</td>\n",
              "      <td>0.052521</td>\n",
              "      <td>-0.085680</td>\n",
              "      <td>0.029543</td>\n",
              "      <td>-0.014272</td>\n",
              "      <td>-0.014971</td>\n",
              "      <td>-0.106191</td>\n",
              "      <td>-0.000823</td>\n",
              "      <td>0.110535</td>\n",
              "      <td>1.000000</td>\n",
              "      <td>-0.135545</td>\n",
              "    </tr>\n",
              "    <tr>\n",
              "      <th>long</th>\n",
              "      <td>0.133896</td>\n",
              "      <td>0.179387</td>\n",
              "      <td>0.240221</td>\n",
              "      <td>0.229552</td>\n",
              "      <td>0.158923</td>\n",
              "      <td>-0.041904</td>\n",
              "      <td>-0.106512</td>\n",
              "      <td>-0.179029</td>\n",
              "      <td>0.343791</td>\n",
              "      <td>-0.144743</td>\n",
              "      <td>-0.135545</td>\n",
              "      <td>1.000000</td>\n",
              "    </tr>\n",
              "  </tbody>\n",
              "</table>\n",
              "</div>"
            ],
            "text/plain": [
              "               bedrooms  bathrooms  ...       lat      long\n",
              "bedrooms       1.000000   0.480457  ... -0.010581  0.133896\n",
              "bathrooms      0.480457   1.000000  ...  0.031385  0.179387\n",
              "sqft_living    0.591475   0.697914  ...  0.052521  0.240221\n",
              "sqft_lot       0.032807   0.085313  ... -0.085680  0.229552\n",
              "floors         0.160687   0.484886  ...  0.029543  0.158923\n",
              "waterfront    -0.006610   0.058799  ... -0.014272 -0.041904\n",
              "condition      0.025377  -0.125962  ... -0.014971 -0.106512\n",
              "grade         -0.350692  -0.552834  ... -0.106191 -0.179029\n",
              "sqft_above     0.490625   0.639963  ... -0.000823  0.343791\n",
              "sqft_basement  0.309456   0.250920  ...  0.110535 -0.144743\n",
              "lat           -0.010581   0.031385  ...  1.000000 -0.135545\n",
              "long           0.133896   0.179387  ... -0.135545  1.000000\n",
              "\n",
              "[12 rows x 12 columns]"
            ]
          },
          "metadata": {
            "tags": []
          },
          "execution_count": 29
        }
      ]
    },
    {
      "cell_type": "code",
      "metadata": {
        "colab": {
          "base_uri": "https://localhost:8080/",
          "height": 506
        },
        "id": "S-DEDOcR3i2-",
        "outputId": "2fd23d83-5513-46cf-90c1-4861263b2ef8"
      },
      "source": [
        "# Calculate VIF\n",
        "vif = pd.DataFrame(np.linalg.inv(corr.values), index = corr.index, columns = corr.columns)\n",
        "\n",
        "# using a heatmap to display the results\n",
        "plt.figure(figsize = (15, 10))\n",
        "sns.heatmap(vif, annot = True)"
      ],
      "execution_count": 30,
      "outputs": [
        {
          "output_type": "execute_result",
          "data": {
            "text/plain": [
              "<matplotlib.axes._subplots.AxesSubplot at 0x7fce82377350>"
            ]
          },
          "metadata": {
            "tags": []
          },
          "execution_count": 30
        },
        {
          "output_type": "display_data",
          "data": {
            "image/png": "[encoded data removed]",
            "text/plain": [
              "<Figure size 1080x720 with 2 Axes>"
            ]
          },
          "metadata": {
            "tags": [],
            "needs_background": "light"
          }
        }
      ]
    },
    {
      "cell_type": "code",
      "metadata": {
        "colab": {
          "base_uri": "https://localhost:8080/",
          "height": 359
        },
        "id": "_dHcuNpe-T38",
        "outputId": "4a533986-9959-4d43-a181-0cf15a95ceb6"
      },
      "source": [
        "# We drop the sqft_above and sqft_basement columns since it has a high VIF value\n",
        "factors = factors.drop(['sqft_above','sqft_living'],axis=1)\n",
        "correlations = factors.corr()\n",
        "pd.DataFrame(np.linalg.inv(correlations.values), index = correlations.index, columns=correlations.columns)"
      ],
      "execution_count": 31,
      "outputs": [
        {
          "output_type": "execute_result",
          "data": {
            "text/html": [
              "<div>\n",
              "<style scoped>\n",
              "    .dataframe tbody tr th:only-of-type {\n",
              "        vertical-align: middle;\n",
              "    }\n",
              "\n",
              "    .dataframe tbody tr th {\n",
              "        vertical-align: top;\n",
              "    }\n",
              "\n",
              "    .dataframe thead th {\n",
              "        text-align: right;\n",
              "    }\n",
              "</style>\n",
              "<table border=\"1\" class=\"dataframe\">\n",
              "  <thead>\n",
              "    <tr style=\"text-align: right;\">\n",
              "      <th></th>\n",
              "      <th>bedrooms</th>\n",
              "      <th>bathrooms</th>\n",
              "      <th>sqft_lot</th>\n",
              "      <th>floors</th>\n",
              "      <th>waterfront</th>\n",
              "      <th>condition</th>\n",
              "      <th>grade</th>\n",
              "      <th>sqft_basement</th>\n",
              "      <th>lat</th>\n",
              "      <th>long</th>\n",
              "    </tr>\n",
              "  </thead>\n",
              "  <tbody>\n",
              "    <tr>\n",
              "      <th>bedrooms</th>\n",
              "      <td>1.416127</td>\n",
              "      <td>-0.526377</td>\n",
              "      <td>0.047773</td>\n",
              "      <td>0.041291</td>\n",
              "      <td>0.069206</td>\n",
              "      <td>-0.078588</td>\n",
              "      <td>0.184600</td>\n",
              "      <td>-0.283918</td>\n",
              "      <td>0.069337</td>\n",
              "      <td>-0.116835</td>\n",
              "    </tr>\n",
              "    <tr>\n",
              "      <th>bathrooms</th>\n",
              "      <td>-0.526377</td>\n",
              "      <td>2.038411</td>\n",
              "      <td>-0.085948</td>\n",
              "      <td>-0.758630</td>\n",
              "      <td>-0.047573</td>\n",
              "      <td>0.052334</td>\n",
              "      <td>0.466364</td>\n",
              "      <td>-0.478990</td>\n",
              "      <td>0.030040</td>\n",
              "      <td>-0.133077</td>\n",
              "    </tr>\n",
              "    <tr>\n",
              "      <th>sqft_lot</th>\n",
              "      <td>0.047773</td>\n",
              "      <td>-0.085948</td>\n",
              "      <td>1.072360</td>\n",
              "      <td>0.105814</td>\n",
              "      <td>-0.024114</td>\n",
              "      <td>-0.001497</td>\n",
              "      <td>0.062743</td>\n",
              "      <td>-0.014099</td>\n",
              "      <td>0.067720</td>\n",
              "      <td>-0.236756</td>\n",
              "    </tr>\n",
              "    <tr>\n",
              "      <th>floors</th>\n",
              "      <td>0.041291</td>\n",
              "      <td>-0.758630</td>\n",
              "      <td>0.105814</td>\n",
              "      <td>1.860624</td>\n",
              "      <td>-0.019402</td>\n",
              "      <td>0.257927</td>\n",
              "      <td>0.563557</td>\n",
              "      <td>0.669653</td>\n",
              "      <td>-0.028011</td>\n",
              "      <td>0.031257</td>\n",
              "    </tr>\n",
              "    <tr>\n",
              "      <th>waterfront</th>\n",
              "      <td>0.069206</td>\n",
              "      <td>-0.047573</td>\n",
              "      <td>-0.024114</td>\n",
              "      <td>-0.019402</td>\n",
              "      <td>1.016268</td>\n",
              "      <td>-0.016932</td>\n",
              "      <td>0.046371</td>\n",
              "      <td>-0.081892</td>\n",
              "      <td>0.035731</td>\n",
              "      <td>0.049960</td>\n",
              "    </tr>\n",
              "    <tr>\n",
              "      <th>condition</th>\n",
              "      <td>-0.078588</td>\n",
              "      <td>0.052334</td>\n",
              "      <td>-0.001497</td>\n",
              "      <td>0.257927</td>\n",
              "      <td>-0.016932</td>\n",
              "      <td>1.117628</td>\n",
              "      <td>-0.039453</td>\n",
              "      <td>-0.121783</td>\n",
              "      <td>0.023305</td>\n",
              "      <td>0.057288</td>\n",
              "    </tr>\n",
              "    <tr>\n",
              "      <th>grade</th>\n",
              "      <td>0.184600</td>\n",
              "      <td>0.466364</td>\n",
              "      <td>0.062743</td>\n",
              "      <td>0.563557</td>\n",
              "      <td>0.046371</td>\n",
              "      <td>-0.039453</td>\n",
              "      <td>1.683012</td>\n",
              "      <td>0.235726</td>\n",
              "      <td>0.147873</td>\n",
              "      <td>0.140870</td>\n",
              "    </tr>\n",
              "    <tr>\n",
              "      <th>sqft_basement</th>\n",
              "      <td>-0.283918</td>\n",
              "      <td>-0.478990</td>\n",
              "      <td>-0.014099</td>\n",
              "      <td>0.669653</td>\n",
              "      <td>-0.081892</td>\n",
              "      <td>-0.121783</td>\n",
              "      <td>0.235726</td>\n",
              "      <td>1.480312</td>\n",
              "      <td>-0.117353</td>\n",
              "      <td>0.244911</td>\n",
              "    </tr>\n",
              "    <tr>\n",
              "      <th>lat</th>\n",
              "      <td>0.069337</td>\n",
              "      <td>0.030040</td>\n",
              "      <td>0.067720</td>\n",
              "      <td>-0.028011</td>\n",
              "      <td>0.035731</td>\n",
              "      <td>0.023305</td>\n",
              "      <td>0.147873</td>\n",
              "      <td>-0.117353</td>\n",
              "      <td>1.053645</td>\n",
              "      <td>0.130517</td>\n",
              "    </tr>\n",
              "    <tr>\n",
              "      <th>long</th>\n",
              "      <td>-0.116835</td>\n",
              "      <td>-0.133077</td>\n",
              "      <td>-0.236756</td>\n",
              "      <td>0.031257</td>\n",
              "      <td>0.049960</td>\n",
              "      <td>0.057288</td>\n",
              "      <td>0.140870</td>\n",
              "      <td>0.244911</td>\n",
              "      <td>0.130517</td>\n",
              "      <td>1.175452</td>\n",
              "    </tr>\n",
              "  </tbody>\n",
              "</table>\n",
              "</div>"
            ],
            "text/plain": [
              "               bedrooms  bathrooms  sqft_lot  ...  sqft_basement       lat      long\n",
              "bedrooms       1.416127  -0.526377  0.047773  ...      -0.283918  0.069337 -0.116835\n",
              "bathrooms     -0.526377   2.038411 -0.085948  ...      -0.478990  0.030040 -0.133077\n",
              "sqft_lot       0.047773  -0.085948  1.072360  ...      -0.014099  0.067720 -0.236756\n",
              "floors         0.041291  -0.758630  0.105814  ...       0.669653 -0.028011  0.031257\n",
              "waterfront     0.069206  -0.047573 -0.024114  ...      -0.081892  0.035731  0.049960\n",
              "condition     -0.078588   0.052334 -0.001497  ...      -0.121783  0.023305  0.057288\n",
              "grade          0.184600   0.466364  0.062743  ...       0.235726  0.147873  0.140870\n",
              "sqft_basement -0.283918  -0.478990 -0.014099  ...       1.480312 -0.117353  0.244911\n",
              "lat            0.069337   0.030040  0.067720  ...      -0.117353  1.053645  0.130517\n",
              "long          -0.116835  -0.133077 -0.236756  ...       0.244911  0.130517  1.175452\n",
              "\n",
              "[10 rows x 10 columns]"
            ]
          },
          "metadata": {
            "tags": []
          },
          "execution_count": 31
        }
      ]
    },
    {
      "cell_type": "markdown",
      "metadata": {
        "id": "EzQCH4eA_vFy"
      },
      "source": [
        "We finally get VIF values of less than 5,thus little to no multicollinearity. We can continue with the Analysis"
      ]
    },
    {
      "cell_type": "markdown",
      "metadata": {
        "id": "p8ln7kUYF8zB"
      },
      "source": [
        "Training the model"
      ]
    },
    {
      "cell_type": "code",
      "metadata": {
        "id": "QlLaRe5CVxok"
      },
      "source": [
        "factors.drop('zipcode',axis=1,inplace=True)"
      ],
      "execution_count": 32,
      "outputs": []
    },
    {
      "cell_type": "code",
      "metadata": {
        "colab": {
          "base_uri": "https://localhost:8080/"
        },
        "id": "UAdvDqUhBlyU",
        "outputId": "6bb24c91-61b8-48b3-8451-865b80228838"
      },
      "source": [
        "# We split our new dataset into train & test sets\n",
        "X = factors.values\n",
        "y = house['price'].values\n",
        "print(X.shape)\n",
        "print(y.shape)\n",
        "\n",
        "# Scaling data \n",
        "from sklearn.preprocessing import StandardScaler\n",
        "scaler = StandardScaler()\n",
        "scaler.fit(X)\n",
        "X = scaler.transform(X)\n",
        "\n",
        "from sklearn.model_selection import train_test_split\n",
        "X_train, X_test, y_train, y_test = train_test_split(X, y, test_size = 0.2, random_state = 100)\n",
        "\n",
        "# now training our model\n",
        "from sklearn.linear_model import LinearRegression\n",
        "\n",
        "reg = LinearRegression()\n",
        "reg.fit(X_train, y_train)\n",
        "\n"
      ],
      "execution_count": 33,
      "outputs": [
        {
          "output_type": "stream",
          "text": [
            "(21610, 10)\n",
            "(21610,)\n"
          ],
          "name": "stdout"
        },
        {
          "output_type": "execute_result",
          "data": {
            "text/plain": [
              "LinearRegression(copy_X=True, fit_intercept=True, n_jobs=None, normalize=False)"
            ]
          },
          "metadata": {
            "tags": []
          },
          "execution_count": 33
        }
      ]
    },
    {
      "cell_type": "code",
      "metadata": {
        "colab": {
          "base_uri": "https://localhost:8080/"
        },
        "id": "kj7B_GsaHSOW",
        "outputId": "8db53a82-289e-4081-d6a2-9e072afe74a4"
      },
      "source": [
        "# print the coefficients and intercept\n",
        "print('Coefficients: \\n', reg.coef_)\n",
        "\n",
        "print('Intercept: \\n',reg.intercept_)"
      ],
      "execution_count": 34,
      "outputs": [
        {
          "output_type": "stream",
          "text": [
            "Coefficients: \n",
            " [  13625.12394217  106821.04456618   20876.73462943   -3920.94019039\n",
            "   81787.30768974   32585.08640935 -112414.06477839   42982.91069413\n",
            "   95040.20418237  -11007.78829437]\n",
            "Intercept: \n",
            " 539436.4227679238\n"
          ],
          "name": "stdout"
        }
      ]
    },
    {
      "cell_type": "code",
      "metadata": {
        "colab": {
          "base_uri": "https://localhost:8080/",
          "height": 204
        },
        "id": "-xWxvUwAJNTY",
        "outputId": "af4d7269-9123-47d8-c92c-2e6f3f6c92bc"
      },
      "source": [
        "# Predict on test data\n",
        "y_pred = reg.predict(X_test)\n",
        "\n",
        "# check the difference between the actual value and predicted value\n",
        "df = pd.DataFrame({'Actual': y_test, 'Predicted': y_pred})\n",
        "df.head(5)\n",
        "\n"
      ],
      "execution_count": 35,
      "outputs": [
        {
          "output_type": "execute_result",
          "data": {
            "text/html": [
              "<div>\n",
              "<style scoped>\n",
              "    .dataframe tbody tr th:only-of-type {\n",
              "        vertical-align: middle;\n",
              "    }\n",
              "\n",
              "    .dataframe tbody tr th {\n",
              "        vertical-align: top;\n",
              "    }\n",
              "\n",
              "    .dataframe thead th {\n",
              "        text-align: right;\n",
              "    }\n",
              "</style>\n",
              "<table border=\"1\" class=\"dataframe\">\n",
              "  <thead>\n",
              "    <tr style=\"text-align: right;\">\n",
              "      <th></th>\n",
              "      <th>Actual</th>\n",
              "      <th>Predicted</th>\n",
              "    </tr>\n",
              "  </thead>\n",
              "  <tbody>\n",
              "    <tr>\n",
              "      <th>0</th>\n",
              "      <td>269000.0</td>\n",
              "      <td>274349.837055</td>\n",
              "    </tr>\n",
              "    <tr>\n",
              "      <th>1</th>\n",
              "      <td>299000.0</td>\n",
              "      <td>441416.933181</td>\n",
              "    </tr>\n",
              "    <tr>\n",
              "      <th>2</th>\n",
              "      <td>1080000.0</td>\n",
              "      <td>775593.863612</td>\n",
              "    </tr>\n",
              "    <tr>\n",
              "      <th>3</th>\n",
              "      <td>365000.0</td>\n",
              "      <td>576028.483205</td>\n",
              "    </tr>\n",
              "    <tr>\n",
              "      <th>4</th>\n",
              "      <td>500000.0</td>\n",
              "      <td>622963.452993</td>\n",
              "    </tr>\n",
              "  </tbody>\n",
              "</table>\n",
              "</div>"
            ],
            "text/plain": [
              "      Actual      Predicted\n",
              "0   269000.0  274349.837055\n",
              "1   299000.0  441416.933181\n",
              "2  1080000.0  775593.863612\n",
              "3   365000.0  576028.483205\n",
              "4   500000.0  622963.452993"
            ]
          },
          "metadata": {
            "tags": []
          },
          "execution_count": 35
        }
      ]
    },
    {
      "cell_type": "code",
      "metadata": {
        "colab": {
          "base_uri": "https://localhost:8080/"
        },
        "id": "rfbTvRfPJkhz",
        "outputId": "eb9bdbbb-987c-42df-cc72-1a05c77c6210"
      },
      "source": [
        "# assessing the model's accuracy\n",
        "from sklearn.metrics import mean_squared_error,r2_score\n",
        "MSE = mean_squared_error(y_test, y_pred)\n",
        "print(\"Mean Squared Error:\", MSE)\n",
        "# The coefficient of determination: 1 is perfect prediction\n",
        "print('Coefficient of determination: %.2f'\n",
        "     %  r2_score(y_test, y_pred))\n"
      ],
      "execution_count": 36,
      "outputs": [
        {
          "output_type": "stream",
          "text": [
            "Mean Squared Error: 72188680917.18527\n",
            "Coefficient of determination: 0.49\n"
          ],
          "name": "stdout"
        }
      ]
    },
    {
      "cell_type": "code",
      "metadata": {
        "colab": {
          "base_uri": "https://localhost:8080/"
        },
        "id": "UID43hk-MSdU",
        "outputId": "342e52c6-1057-4c60-d787-cdcb7638f0fb"
      },
      "source": [
        "regression = LinearRegression()\n",
        "regression.fit(X,y)\n",
        "first_model = (mean_squared_error(y_true=y,y_pred=regression.predict(X)))\n",
        "print('Linear model MSE: ',first_model)"
      ],
      "execution_count": 37,
      "outputs": [
        {
          "output_type": "stream",
          "text": [
            "Linear model MSE:  66951686770.783226\n"
          ],
          "name": "stdout"
        }
      ]
    },
    {
      "cell_type": "markdown",
      "metadata": {
        "id": "ZD0Z8yuNcPp-"
      },
      "source": [
        "We will do the linear regression with all the values, instead of dropping them"
      ]
    },
    {
      "cell_type": "code",
      "metadata": {
        "id": "glSuf5mfdf8q",
        "outputId": "8af6ceae-778d-44ba-922f-b4152e946e37",
        "colab": {
          "base_uri": "https://localhost:8080/"
        }
      },
      "source": [
        "X2=house.drop('price',axis=1)\n",
        "y2=house.price\n",
        "regression = LinearRegression()\n",
        "regression.fit(X2,y2)\n",
        "linear_model = (mean_squared_error(y_true=y2,y_pred=regression.predict(X2)))\n",
        "linear_model"
      ],
      "execution_count": 38,
      "outputs": [
        {
          "output_type": "execute_result",
          "data": {
            "text/plain": [
              "47976362089.97205"
            ]
          },
          "metadata": {
            "tags": []
          },
          "execution_count": 38
        }
      ]
    },
    {
      "cell_type": "markdown",
      "metadata": {
        "id": "rRylUlpfeRhW"
      },
      "source": [
        "Using all features, our model seems to improve with a mean squared error of 47976362089.97205. The reduced model had a MSE of 66951686770.783226\n",
        "\n",
        "This could be that we dropped the wrong variables or something was wrong with the data"
      ]
    },
    {
      "cell_type": "markdown",
      "metadata": {
        "id": "jte6TOsoKe39"
      },
      "source": [
        "Residual plots and Heteroscedasticity Test"
      ]
    },
    {
      "cell_type": "code",
      "metadata": {
        "colab": {
          "base_uri": "https://localhost:8080/"
        },
        "id": "OW4SWGkFKlB3",
        "outputId": "2bb4487b-66a8-46f2-ece0-aec7f434d7c9"
      },
      "source": [
        "# now creating residuals by substracting the test value from the predicted value for each row\n",
        "# in our dataset\n",
        "\n",
        "residuals = np.subtract(y_pred, y_test)\n",
        "residuals.mean()"
      ],
      "execution_count": 39,
      "outputs": [
        {
          "output_type": "execute_result",
          "data": {
            "text/plain": [
              "-3712.6103621519314"
            ]
          },
          "metadata": {
            "tags": []
          },
          "execution_count": 39
        }
      ]
    },
    {
      "cell_type": "code",
      "metadata": {
        "colab": {
          "base_uri": "https://localhost:8080/",
          "height": 290
        },
        "id": "cC6sRdZFKrwx",
        "outputId": "c91ad3e6-b1dd-4ff6-d977-e14e5ba73bf6"
      },
      "source": [
        "# plotting the residuals\n",
        "\n",
        "plt.scatter(y_pred, residuals, color = 'blue')\n",
        "plt.figsize = [12, 10]\n",
        "plt.ylabel('residual')\n",
        "plt.xlabel('fitted values')\n",
        "plt.axhline(y = residuals.mean(), color = 'red', linewidth = 1)\n",
        "plt.show()"
      ],
      "execution_count": 40,
      "outputs": [
        {
          "output_type": "display_data",
          "data": {
            "image/png": "[encoded data removed]",
            "text/plain": [
              "<Figure size 432x288 with 1 Axes>"
            ]
          },
          "metadata": {
            "tags": [],
            "needs_background": "light"
          }
        }
      ]
    },
    {
      "cell_type": "markdown",
      "metadata": {
        "id": "qMma7kekK7Te"
      },
      "source": [
        "\n",
        "\n",
        "Now testing for heteroscedasticity using Barlett's test. This test establishes as a null hypothesis that the variance is equal for all our datapoints, and the new hypothesis that the variance is different for at least one pair of datapoints.\n"
      ]
    },
    {
      "cell_type": "code",
      "metadata": {
        "colab": {
          "base_uri": "https://localhost:8080/"
        },
        "id": "iHZC-vaeK-g3",
        "outputId": "ab2622b9-a54c-4a7d-d42d-d95b81d5968a"
      },
      "source": [
        "test_result, p_value = stats.bartlett(y_pred, residuals)\n",
        "print(\"Test result:\", test_result)\n",
        "print(\"P-value:\", p_value)"
      ],
      "execution_count": 41,
      "outputs": [
        {
          "output_type": "stream",
          "text": [
            "Test result: 7.49513233357544\n",
            "P-value: 0.006186598497071564\n"
          ],
          "name": "stdout"
        }
      ]
    },
    {
      "cell_type": "code",
      "metadata": {
        "colab": {
          "base_uri": "https://localhost:8080/"
        },
        "id": "pXsr2JMILZHc",
        "outputId": "6301af27-5c87-485b-cb17-7ca250c21426"
      },
      "source": [
        "# to interpret the results, we must compute a critical value of the chi squared distribution\n",
        "degree_of_freedom = len(y_pred) - 1\n",
        "probability = 1 - p_value\n",
        "critical_value = stats.chi2.ppf(probability, degree_of_freedom)\n",
        "\n",
        "print(\"Degree of Freedom:\", degree_of_freedom)\n",
        "print(\"Probability:\", probability)\n",
        "print(\"Critical Value:\", critical_value)"
      ],
      "execution_count": 42,
      "outputs": [
        {
          "output_type": "stream",
          "text": [
            "Degree of Freedom: 4321\n",
            "Probability: 0.9938134015029284\n",
            "Critical Value: 4557.030441319312\n"
          ],
          "name": "stdout"
        }
      ]
    },
    {
      "cell_type": "code",
      "metadata": {
        "colab": {
          "base_uri": "https://localhost:8080/"
        },
        "id": "AgEoAsEmN1LW",
        "outputId": "935cd884-2d85-4c8b-8bb5-bee295381343"
      },
      "source": [
        "if (test_result > critical_value):\n",
        "  print('the variances are unequal, and the model should be reassessed')\n",
        "else:\n",
        "  print('the variances are homogeneous!')"
      ],
      "execution_count": 43,
      "outputs": [
        {
          "output_type": "stream",
          "text": [
            "the variances are homogeneous!\n"
          ],
          "name": "stdout"
        }
      ]
    },
    {
      "cell_type": "code",
      "metadata": {
        "colab": {
          "base_uri": "https://localhost:8080/",
          "height": 294
        },
        "id": "dSU31FSmOmVD",
        "outputId": "b5ecda08-f58d-4a52-8ae9-a02f0a91a7e2"
      },
      "source": [
        "#Distribution of error terms\n",
        "p = sns.distplot(residuals,kde=True)\n",
        "p = plt.title('Normality of error terms/residuals')"
      ],
      "execution_count": 44,
      "outputs": [
        {
          "output_type": "display_data",
          "data": {
            "image/png": "[encoded data removed]",
            "text/plain": [
              "<Figure size 432x288 with 1 Axes>"
            ]
          },
          "metadata": {
            "tags": [],
            "needs_background": "light"
          }
        }
      ]
    },
    {
      "cell_type": "markdown",
      "metadata": {
        "id": "76wBFy-eO1-H"
      },
      "source": [
        "Some of our factors suffered from multicollinearlity, thus it is important to apply regularization techniques to solve this. Also our target variable price was skewed, which means we should try a different kind of approach like Quantile regression."
      ]
    },
    {
      "cell_type": "markdown",
      "metadata": {
        "id": "nmZV9yZqgCnl"
      },
      "source": [
        "## 4.2 Quantile Regression"
      ]
    },
    {
      "cell_type": "markdown",
      "metadata": {
        "id": "KYT2QvhXgdHN"
      },
      "source": [
        "Quantile regression is an extension of linear regression which is generally used when outliers are present and the data also has high skewedness and heteroscedasticity. Unlike normal linear regression, quantile predicts the quanatile for a given independent variable or set of independent variables.\n",
        "\n",
        "Quantile regression works best when the following are true of our dependent variable y:\n",
        "\n",
        "- is continuous\n",
        "- does not have any zeros\n",
        "- does not have too many repeated values"
      ]
    },
    {
      "cell_type": "code",
      "metadata": {
        "id": "Y6UKhmDQgEUH"
      },
      "source": [
        "house_q=house.drop(['sqft_above', 'sqft_basement','zipcode'],axis=1)\n"
      ],
      "execution_count": 45,
      "outputs": []
    },
    {
      "cell_type": "code",
      "metadata": {
        "colab": {
          "base_uri": "https://localhost:8080/"
        },
        "id": "Q0iQblbfg0ZA",
        "outputId": "4c6d8609-f073-45f3-d12b-c9386ace02ed"
      },
      "source": [
        "# Feature Selection\n",
        "df_corr = house_q.corr(method='pearson')['price']  \n",
        "qlist = df_corr[abs(df_corr) > 0.1]\n",
        "qlist"
      ],
      "execution_count": 46,
      "outputs": [
        {
          "output_type": "execute_result",
          "data": {
            "text/plain": [
              "price          1.000000\n",
              "bedrooms       0.315435\n",
              "bathrooms      0.510096\n",
              "sqft_living    0.702046\n",
              "floors         0.237215\n",
              "waterfront     0.266332\n",
              "grade         -0.524315\n",
              "lat            0.306922\n",
              "Name: price, dtype: float64"
            ]
          },
          "metadata": {
            "tags": []
          },
          "execution_count": 46
        }
      ]
    },
    {
      "cell_type": "code",
      "metadata": {
        "id": "viZCJv4hgN32"
      },
      "source": [
        "#Separating features from target\n",
        "Xq=house_q[['bedrooms','bathrooms','sqft_living','sqft_lot','floors','waterfront','condition','grade','lat','long']]\n",
        "yq=house_q.price\n",
        "#Creating traing and testing set\n",
        "Xq_train,Xq_test, yq_train, yq_test = train_test_split(Xq, yq, test_size = 0.3, random_state = 0)"
      ],
      "execution_count": 47,
      "outputs": []
    },
    {
      "cell_type": "code",
      "metadata": {
        "colab": {
          "base_uri": "https://localhost:8080/"
        },
        "id": "gLdvk3lAhKXp",
        "outputId": "cffc07b6-48c8-400f-acec-fd8753005722"
      },
      "source": [
        "house_q.columns"
      ],
      "execution_count": 48,
      "outputs": [
        {
          "output_type": "execute_result",
          "data": {
            "text/plain": [
              "Index(['price', 'bedrooms', 'bathrooms', 'sqft_living', 'sqft_lot', 'floors',\n",
              "       'waterfront', 'condition', 'grade', 'lat', 'long'],\n",
              "      dtype='object')"
            ]
          },
          "metadata": {
            "tags": []
          },
          "execution_count": 48
        }
      ]
    },
    {
      "cell_type": "code",
      "metadata": {
        "colab": {
          "base_uri": "https://localhost:8080/"
        },
        "id": "5-3AcPyohCET",
        "outputId": "fdcbc227-2dc5-40ff-bcce-aa4ed749c7c4"
      },
      "source": [
        "import statsmodels.formula.api as smf\n",
        "#Creating a quantile regression model\n",
        "mod = smf.quantreg('price ~ bedrooms + bathrooms + sqft_living + sqft_lot + grade + floors + lat + long+condition +waterfront', house_q)\n",
        "#Getting summary for 50% quantile\n",
        "res1 = mod.fit(q=.5)\n",
        "print(res1.summary())"
      ],
      "execution_count": 49,
      "outputs": [
        {
          "output_type": "stream",
          "text": [
            "                         QuantReg Regression Results                          \n",
            "==============================================================================\n",
            "Dep. Variable:                  price   Pseudo R-squared:               0.3802\n",
            "Model:                       QuantReg   Bandwidth:                   2.297e+04\n",
            "Method:                 Least Squares   Sparsity:                    3.185e+05\n",
            "Date:                Sat, 24 Jul 2021   No. Observations:                21610\n",
            "Time:                        12:36:24   Df Residuals:                    21599\n",
            "                                        Df Model:                           10\n",
            "===============================================================================\n",
            "                  coef    std err          t      P>|t|      [0.025      0.975]\n",
            "-------------------------------------------------------------------------------\n",
            "Intercept   -2238.4523     12.773   -175.242      0.000   -2263.489   -2213.415\n",
            "bedrooms     -3.81e+04   1517.321    -25.107      0.000   -4.11e+04   -3.51e+04\n",
            "bathrooms    1.245e+04   2235.255      5.570      0.000    8068.388    1.68e+04\n",
            "sqft_living   176.2917      2.049     86.019      0.000     172.275     180.309\n",
            "sqft_lot       -0.0298      0.027     -1.112      0.266      -0.082       0.023\n",
            "grade        -5.74e+04   2158.663    -26.590      0.000   -6.16e+04   -5.32e+04\n",
            "floors      -1.506e+04   2446.097     -6.155      0.000   -1.99e+04   -1.03e+04\n",
            "lat          5.499e+05   7780.356     70.683      0.000    5.35e+05    5.65e+05\n",
            "long         2.123e+05   3033.125     70.003      0.000    2.06e+05    2.18e+05\n",
            "condition    4.102e+04   1750.084     23.439      0.000    3.76e+04    4.45e+04\n",
            "waterfront   7.673e+05   1.27e+04     60.626      0.000    7.43e+05    7.92e+05\n",
            "===============================================================================\n",
            "\n",
            "The condition number is large, 4.18e+07. This might indicate that there are\n",
            "strong multicollinearity or other numerical problems.\n"
          ],
          "name": "stdout"
        },
        {
          "output_type": "stream",
          "text": [
            "/usr/local/lib/python3.7/dist-packages/statsmodels/regression/quantile_regression.py:192: IterationLimitWarning: Maximum number of iterations (1000) reached.\n",
            "  \") reached.\", IterationLimitWarning)\n"
          ],
          "name": "stderr"
        }
      ]
    },
    {
      "cell_type": "code",
      "metadata": {
        "colab": {
          "base_uri": "https://localhost:8080/"
        },
        "id": "dNa4yFHxi-l5",
        "outputId": "49b37507-a63a-48e4-92ad-2958bae84831"
      },
      "source": [
        "#Summary for 25%\n",
        "res2 = mod.fit(q=.25)\n",
        "print(res2.summary())\n",
        "\n"
      ],
      "execution_count": 50,
      "outputs": [
        {
          "output_type": "stream",
          "text": [
            "                         QuantReg Regression Results                          \n",
            "==============================================================================\n",
            "Dep. Variable:                  price   Pseudo R-squared:               0.3570\n",
            "Model:                       QuantReg   Bandwidth:                   2.088e+04\n",
            "Method:                 Least Squares   Sparsity:                    2.727e+05\n",
            "Date:                Sat, 24 Jul 2021   No. Observations:                21610\n",
            "Time:                        12:36:28   Df Residuals:                    21599\n",
            "                                        Df Model:                           10\n",
            "===============================================================================\n",
            "                  coef    std err          t      P>|t|      [0.025      0.975]\n",
            "-------------------------------------------------------------------------------\n",
            "Intercept    1327.3703     10.062    131.919      0.000    1307.648    1347.093\n",
            "bedrooms    -2.237e+04   1092.255    -20.478      0.000   -2.45e+04   -2.02e+04\n",
            "bathrooms    1.528e+04   1650.103      9.259      0.000     1.2e+04    1.85e+04\n",
            "sqft_living   130.8693      1.475     88.698      0.000     127.977     133.761\n",
            "sqft_lot        0.0894      0.020      4.572      0.000       0.051       0.128\n",
            "grade       -4.964e+04   1608.966    -30.851      0.000   -5.28e+04   -4.65e+04\n",
            "floors      -3390.9294   1822.142     -1.861      0.063   -6962.462     180.603\n",
            "lat          4.581e+05   6708.938     68.275      0.000    4.45e+05    4.71e+05\n",
            "long         1.769e+05   2613.890     67.670      0.000    1.72e+05    1.82e+05\n",
            "condition    2.793e+04   1261.340     22.143      0.000    2.55e+04    3.04e+04\n",
            "waterfront   4.236e+05   9367.297     45.218      0.000    4.05e+05    4.42e+05\n",
            "===============================================================================\n",
            "\n",
            "The condition number is large, 4.18e+07. This might indicate that there are\n",
            "strong multicollinearity or other numerical problems.\n"
          ],
          "name": "stdout"
        },
        {
          "output_type": "stream",
          "text": [
            "/usr/local/lib/python3.7/dist-packages/statsmodels/regression/quantile_regression.py:192: IterationLimitWarning: Maximum number of iterations (1000) reached.\n",
            "  \") reached.\", IterationLimitWarning)\n"
          ],
          "name": "stderr"
        }
      ]
    },
    {
      "cell_type": "code",
      "metadata": {
        "id": "v8gXclNlkhot"
      },
      "source": [
        "# import statsmodels.regression.quantile_regression as Q_reg\n",
        "\n",
        "\n",
        "# quantiles = [0.25, 0.5, 0.75]\n",
        "\n",
        "# # Get the model, and the cofficients in (a) - (b)\n",
        "# def Qreg(q):\n",
        "#    # (a) Modeling \n",
        "#    mod = Q_reg.QuantReg(Xq_train, yq_train).fit(q=q)\n",
        "    \n",
        "#    # (b) Get the coefficients and the lower and upper bounds\n",
        "#    coefs = pd.DataFrame()\n",
        "#    coefs['param'] = mod.params\n",
        "#    coefs = pd.concat([coefs,mod.conf_int()],axis=1) # \"mod.conf_int\" will give the lower and upper bounds\n",
        "#    coefs['q'] = q\n",
        "#    coefs.columns = ['coef','beta_lower','beta_upper','quantile']\n",
        "    \n",
        "#    return coefs\n",
        "\n",
        "# Qreg_coefs = pd.DataFrame()\n",
        "# for q in quantiles:\n",
        "#     coefs = Qreg(q)\n",
        "#     Qreg_coefs = pd.concat([Qreg_coefs,coefs])\n",
        "\n",
        "# # Get the R-squared for Q=0.5\n",
        "# q = 0.5\n",
        "# Y_test_pred1 = Q_reg.QuantReg(Xq_train, yq_train).fit(q=0.25).predict(fet_test)\n",
        "# Y_test_pred2 = Q_reg.QuantReg(Xq_train, yq_train).fit(q=0.5).predict(fet_test)\n",
        "# Y_test_pred3 = Q_reg.QuantReg(Xq_train, yq_train).fit(q=0.75).predict(fet_test)\n",
        "# r2_50 = r2_score(Xq_test,Y_test_pred2)\n",
        "# r2_25 = r2_score(Xq_test,Y_test_pred1)\n",
        "# r2_75 = r2_score(Xq_test,Y_test_pred3)\n",
        "# print('R2 score for the 50th percentile is {}'.format(r2_50) ) \n",
        "# print('R2 score for the 25th percentile is {}'.format(r2_25) ) \n",
        "# print('R2 score for the 75th percentile is {}'.format(r2_75) )"
      ],
      "execution_count": 51,
      "outputs": []
    },
    {
      "cell_type": "markdown",
      "metadata": {
        "id": "ySLthRSilIbc"
      },
      "source": [
        "My Laptop crashed severally doing this regression and runtime restarted. Unfortunately i could not complete this analysis."
      ]
    },
    {
      "cell_type": "markdown",
      "metadata": {
        "id": "k8KQ6t63iYXz"
      },
      "source": [
        "## 4.3 Ridge Regression\n",
        "\n",
        "Ridge regression is a technique that is specialized to analyze multiple regression data which exhibits multicollinearity in nature. Multicollinearity refers to the phenomenon where there are high correlations between more than two independent/predicted variables.\n",
        "\n",
        "In our data, while performing VIF we noted the multicollinearlity in our data which forced has to eliminate some features during Multiple Linear regression modelling.\n",
        "\n",
        "Since ridge regression regularizes this, we will use all the variables in this step to check how the model performs as compared to multiple linear regression"
      ]
    },
    {
      "cell_type": "code",
      "metadata": {
        "id": "BVUlsmTEiXEP"
      },
      "source": [
        "from sklearn.model_selection import GridSearchCV\n",
        "from sklearn.linear_model import Ridge"
      ],
      "execution_count": 52,
      "outputs": []
    },
    {
      "cell_type": "code",
      "metadata": {
        "id": "KslPx-muFm9i"
      },
      "source": [
        "X1=house.drop('price',axis=1)\n",
        "y1=house.price"
      ],
      "execution_count": 53,
      "outputs": []
    },
    {
      "cell_type": "code",
      "metadata": {
        "id": "kk-ml4YOF6Xh",
        "colab": {
          "base_uri": "https://localhost:8080/"
        },
        "outputId": "faee7e41-01ce-4f0f-ea16-b42cce633c20"
      },
      "source": [
        "# Creating our baseline regression model\n",
        "# This is a model that has no regularization to it\n",
        "# \n",
        "regression = LinearRegression()\n",
        "regression.fit(X1,y1)\n",
        "first_model = (mean_squared_error(y_true=y1,y_pred=regression.predict(X1)))\n",
        "print('Linear model MSE: ',first_model)"
      ],
      "execution_count": 54,
      "outputs": [
        {
          "output_type": "stream",
          "text": [
            "Linear model MSE:  47976362089.97205\n"
          ],
          "name": "stdout"
        }
      ]
    },
    {
      "cell_type": "code",
      "metadata": {
        "id": "lL1VvTgMGVlw",
        "colab": {
          "base_uri": "https://localhost:8080/"
        },
        "outputId": "32033d4f-296f-4efc-ba81-b5083c2efdc3"
      },
      "source": [
        "# Cross validation using Grid search cv\n",
        "\n",
        "ridge = Ridge(normalize=True)\n",
        "search = GridSearchCV(estimator=ridge,param_grid={'alpha':np.logspace(-5,2,8)},scoring='neg_mean_squared_error',n_jobs=1,refit=True,cv=10)\n",
        "\n",
        "# we will fit our variables to the grid search and then use it to get the best parameters and the\n",
        "# best score that will allow us to determine the model's strength\n",
        "search.fit(X, y)\n",
        "\n",
        "print(\"Best Params:\", search.best_params_)\n",
        "print(\"Best Score:\", abs(search.best_score_))"
      ],
      "execution_count": 55,
      "outputs": [
        {
          "output_type": "stream",
          "text": [
            "Best Params: {'alpha': 0.01}\n",
            "Best Score: 67518853924.96108\n"
          ],
          "name": "stdout"
        }
      ]
    },
    {
      "cell_type": "markdown",
      "metadata": {
        "id": "Aps4bNZ-HQpd"
      },
      "source": [
        "\n",
        "\n",
        "Our baseline model's MSE was 47976362089.97205, the ridge regression model's MSE is 67518853924.96108. Clearly our ridge model is performing worse than our baseline model.\n",
        "\n",
        "We now will try ridge again but this time with the best parameter of 0.01.\n"
      ]
    },
    {
      "cell_type": "code",
      "metadata": {
        "id": "s5p7TRdwHPZZ",
        "colab": {
          "base_uri": "https://localhost:8080/"
        },
        "outputId": "835598f9-a2c5-4cac-9543-c0f88e2adaa7"
      },
      "source": [
        "ridge2 = Ridge(normalize = True, alpha = 0.01)\n",
        "ridge2.fit(X1, y1)\n",
        "ridge_2 = (mean_squared_error(y_true = y1, y_pred = ridge2.predict(X1)))\n",
        "print(ridge_2)\n"
      ],
      "execution_count": 56,
      "outputs": [
        {
          "output_type": "stream",
          "text": [
            "47983846149.57565\n"
          ],
          "name": "stdout"
        }
      ]
    },
    {
      "cell_type": "markdown",
      "metadata": {
        "id": "1vHb5_Os8UWS"
      },
      "source": [
        "This is a lower score than the one gotten using the grid search, but it's still slightly larger than that of our baseline model.\n",
        "We can run another model using a larger alpha, say 0.1 and check the MSE "
      ]
    },
    {
      "cell_type": "code",
      "metadata": {
        "id": "6ZJLSV54HtZ5",
        "colab": {
          "base_uri": "https://localhost:8080/"
        },
        "outputId": "3dc58a9e-b331-4a47-e88f-b34d2e334e4f"
      },
      "source": [
        "ridge3 = Ridge(normalize = True, alpha = 0.1)\n",
        "ridge3.fit(X1, y1)\n",
        "ridge_3 = (mean_squared_error(y_true = y1, y_pred = ridge3.predict(X1)))\n",
        "print(ridge_3)\n",
        "\n"
      ],
      "execution_count": 57,
      "outputs": [
        {
          "output_type": "stream",
          "text": [
            "48512112028.80103\n"
          ],
          "name": "stdout"
        }
      ]
    },
    {
      "cell_type": "markdown",
      "metadata": {
        "id": "MWjjYuOQ805a"
      },
      "source": [
        "Increasing the value of alpha increases the MSE. Therefore alpha of 0.01 is the best parameter for ridge regression models. \n",
        "Cross validations helps us identify the best alpha value to use"
      ]
    },
    {
      "cell_type": "markdown",
      "metadata": {
        "id": "Se8tQlpSKbvc"
      },
      "source": [
        "**Limitations**\n",
        "\n",
        "Ridge regression has the following limitations:\n",
        "* It will include all the predictors in the final model instead of eliminating the irrelevant coefficients\n",
        "* Doesn’t perform feature selection\n",
        "* Unlike lasso regression, it doesn’t shrink the coefficients completely to 0"
      ]
    },
    {
      "cell_type": "markdown",
      "metadata": {
        "id": "L4HBkAdjKrPb"
      },
      "source": [
        "##4.4 Lasso Regression"
      ]
    },
    {
      "cell_type": "markdown",
      "metadata": {
        "id": "5_htsroHK3K8"
      },
      "source": [
        "Lasso regression is typically used under the following circumstances:\n",
        "\n",
        "- the target variable is normally distributed\n",
        "- there is a linear relationship between the independent variable and the dependent variable\n",
        "- normality is not assumed"
      ]
    },
    {
      "cell_type": "code",
      "metadata": {
        "id": "qvZ2CMGuKl3Z"
      },
      "source": [
        "# first we standardize our data using a scaler\n",
        "from sklearn.preprocessing import StandardScaler\n",
        "scaler = StandardScaler()\n",
        "\n",
        "X = house.drop(columns = ['price'])\n",
        "y = house['price']\n",
        "\n",
        "X = scaler.fit_transform(X)"
      ],
      "execution_count": 58,
      "outputs": []
    },
    {
      "cell_type": "code",
      "metadata": {
        "id": "c_kur7JjLDjb",
        "colab": {
          "base_uri": "https://localhost:8080/"
        },
        "outputId": "e76d9cc7-9fb5-48a1-cf4b-3cef6620a5b7"
      },
      "source": [
        "# next we create our Lasso model\n",
        "from sklearn.linear_model import Lasso\n",
        "\n",
        "lasso = Lasso(tol = 0.0001)\n",
        "lasso_model = lasso.fit(X, y)\n",
        "\n",
        "print(\"lasso score:\", lasso.score(X, y)) \n",
        "print(\"lasso MSE:\", mean_squared_error(y, lasso.predict(X))) \n",
        "print(\"lasso coef:\", lasso.coef_)"
      ],
      "execution_count": 59,
      "outputs": [
        {
          "output_type": "stream",
          "text": [
            "lasso score: 0.6445336796431034\n",
            "lasso MSE: 47976362118.45413\n",
            "lasso coef: [-48860.25542225  30268.44063764 265182.12559724   1012.18894765\n",
            " -23410.01606414  68574.9283882   31013.91009178 -36134.62732355\n",
            "  -5188.02989849 -28219.81052384 -22249.3704055   97606.04379837\n",
            " -53091.12483663]\n"
          ],
          "name": "stdout"
        },
        {
          "output_type": "stream",
          "text": [
            "/usr/local/lib/python3.7/dist-packages/sklearn/linear_model/_coordinate_descent.py:476: ConvergenceWarning: Objective did not converge. You might want to increase the number of iterations. Duality gap: 105747537785512.62, tolerance: 291664533601.623\n",
            "  positive)\n"
          ],
          "name": "stderr"
        }
      ]
    },
    {
      "cell_type": "code",
      "metadata": {
        "id": "Enl5shNdLj_l"
      },
      "source": [
        "# Making necessary imports, split data into training and test sets, and choose a set of parameters \n",
        "from sklearn.model_selection import train_test_split\n",
        "from sklearn.model_selection import GridSearchCV\n",
        "import warnings\n",
        "warnings.filterwarnings(\"ignore\")\n",
        "\n",
        "X_train, X_test, y_train, y_test = train_test_split(X, y, test_size = 0.25, random_state = 101)\n",
        "parameters = {'alpha': np.concatenate((np.arange(0.1,2,0.1), np.arange(2, 5, 0.5), np.arange(5, 25, 1)))}\n",
        "linear = LinearRegression()\n",
        "lasso = Lasso() \n",
        "gridlasso = GridSearchCV(lasso, parameters, scoring ='r2')"
      ],
      "execution_count": 60,
      "outputs": []
    },
    {
      "cell_type": "code",
      "metadata": {
        "id": "6CzJyC3uL3HF",
        "colab": {
          "base_uri": "https://localhost:8080/"
        },
        "outputId": "d971874d-674f-4d9b-dcaa-17dff4eeda1c"
      },
      "source": [
        "# Fitting models and print the best parameters, R-squared scores, MSE, and coefficients\n",
        "gridlasso.fit(X_train, y_train) \n",
        "linear.fit(X_train, y_train) \n",
        "print(\"lasso best parameters:\", gridlasso.best_params_) \n",
        "print(\"lasso score:\", gridlasso.score(X_test, y_test))\n",
        "print(\"linear score:\", linear.score(X_test, y_test)) \n",
        "print(\"lasso MSE:\", mean_squared_error(y_test, gridlasso.predict(X_test)))\n",
        "print(\"linear MSE:\", mean_squared_error(y_test, linear.predict(X_test))) \n",
        "print(\"lasso best estimator coef:\", gridlasso.best_estimator_.coef_)\n",
        "print(\"linear coef:\", linear.coef_)"
      ],
      "execution_count": 61,
      "outputs": [
        {
          "output_type": "stream",
          "text": [
            "lasso best parameters: {'alpha': 24.0}\n",
            "lasso score: 0.648060809667613\n",
            "linear score: 0.6480706907336606\n",
            "lasso MSE: 47860917765.211754\n",
            "linear MSE: 47859574019.18254\n",
            "lasso best estimator coef: [-50189.02745115  29820.82376841 247614.72852816   1692.62887518\n",
            " -22456.84759787  64902.75482746  30118.83848773 -35424.00919671\n",
            "  10254.08666967 -17915.89242185 -21678.73308688  98375.37207467\n",
            " -51799.32824179]\n",
            "linear coef: [-50242.3840264   29895.65192656 126841.98994783   1713.69318913\n",
            " -22548.8363504   64919.97151044  30142.04257819 -35442.15388551\n",
            " 119189.0051133   40215.78822745 -21736.37311692  98412.98252048\n",
            " -51870.84573423]\n"
          ],
          "name": "stdout"
        }
      ]
    },
    {
      "cell_type": "markdown",
      "metadata": {
        "id": "_WSSZeKdMB6S"
      },
      "source": [
        "From this algorithm, we see that there are not much differences between the lasso model and the linear model. \n",
        "The Linear MSE is slighter lower than the Lasso MSE. We also now know that the best hyperparameter value to use for alpha is 24"
      ]
    },
    {
      "cell_type": "code",
      "metadata": {
        "id": "eUKM1xbKMLmM",
        "colab": {
          "base_uri": "https://localhost:8080/",
          "height": 458
        },
        "outputId": "b09a46c1-d698-4148-feee-e10825342070"
      },
      "source": [
        "# Importing library for visualization\n",
        "#\n",
        "import matplotlib.pyplot as plt\n",
        "from sklearn.linear_model import Lasso\n",
        "coefsLasso = [] \n",
        "\n",
        "# Building Lasso for 200 values of alpha and write the coefficients into array\n",
        "# \n",
        "alphasLasso = np.arange (0, 20, 0.1) \n",
        "for i in range(200):\n",
        "    lasso = Lasso(alpha=alphasLasso[i])\n",
        "    lasso.fit(X_train, y_train)\n",
        "    coefsLasso.append(lasso.coef_) \n",
        "\n",
        "# Building Lasso coefficient plots\n",
        "# \n",
        "plt.figure(figsize = (16,7))\n",
        "\n",
        "plt.subplot(121)\n",
        "plt.plot(alphasLasso, coefsLasso,)\n",
        "plt.title('Lasso coefficients')\n",
        "plt.xlabel('alpha')\n",
        "plt.ylabel('coefs')\n",
        "\n",
        "plt.show()\n",
        "\n"
      ],
      "execution_count": 62,
      "outputs": [
        {
          "output_type": "display_data",
          "data": {
            "image/png": "[encoded data removed]",
            "text/plain": [
              "<Figure size 1152x504 with 1 Axes>"
            ]
          },
          "metadata": {
            "tags": [],
            "needs_background": "light"
          }
        }
      ]
    },
    {
      "cell_type": "markdown",
      "metadata": {
        "id": "C_pi_hukPNZl"
      },
      "source": [
        "## 4.5 Elastic Net Regression\n",
        "\n",
        "Elastic net is basically a combination of both L1 and L2 regularization, i.e; a combination of lasso and ridge regression. If there is a bunch of correlated independent variables in a dataset, then elastic net will simply form a group consisting of these correlated variables. If any one of the variable of this group is a strong predictor (meaning having a strong relationship with dependent variable), then we will include the entire group in the model building, because omitting other variables (like what we did in lasso) might result in losing some information in terms of interpretation ability, leading to a poor model performance. In our case we will use all our features for this regression, and compare it perfomance with OLS."
      ]
    },
    {
      "cell_type": "code",
      "metadata": {
        "id": "s4oqWpdMUrXx"
      },
      "source": [
        "X=house.drop('price',axis=1)\n",
        "y=house.price"
      ],
      "execution_count": 63,
      "outputs": []
    },
    {
      "cell_type": "code",
      "metadata": {
        "id": "t-ZPDhMZPLL5",
        "colab": {
          "base_uri": "https://localhost:8080/"
        },
        "outputId": "2c32d542-3cf8-414a-c400-938ae0b21d26"
      },
      "source": [
        "# getting the MSE of the linear model which will be our baseline model\n",
        "\n",
        "linear_model"
      ],
      "execution_count": 64,
      "outputs": [
        {
          "output_type": "execute_result",
          "data": {
            "text/plain": [
              "47976362089.97205"
            ]
          },
          "metadata": {
            "tags": []
          },
          "execution_count": 64
        }
      ]
    },
    {
      "cell_type": "code",
      "metadata": {
        "id": "nsRmTcDtSl9Y",
        "colab": {
          "base_uri": "https://localhost:8080/"
        },
        "outputId": "fe78e132-4e68-4fbb-a098-e0595bb08565"
      },
      "source": [
        "# checking our baseline model's coefficients\n",
        "coef_dict_baseline = {}\n",
        "for coef, feat in zip(reg.coef_, X.columns):\n",
        "    coef_dict_baseline[feat] = coef\n",
        "coef_dict_baseline"
      ],
      "execution_count": 65,
      "outputs": [
        {
          "output_type": "execute_result",
          "data": {
            "text/plain": [
              "{'bathrooms': 106821.04456617637,\n",
              " 'bedrooms': 13625.123942173883,\n",
              " 'condition': -112414.06477839428,\n",
              " 'floors': 81787.30768973797,\n",
              " 'grade': 42982.910694132224,\n",
              " 'sqft_above': 95040.20418237287,\n",
              " 'sqft_basement': -11007.788294373007,\n",
              " 'sqft_living': 20876.73462942552,\n",
              " 'sqft_lot': -3920.940190386209,\n",
              " 'waterfront': 32585.08640935412}"
            ]
          },
          "metadata": {
            "tags": []
          },
          "execution_count": 65
        }
      ]
    },
    {
      "cell_type": "code",
      "metadata": {
        "id": "t4FmTqzhUhWU"
      },
      "source": [
        "# creating our Elastic Net model now\n",
        "# like lasso and ridge, it requires normalized data\n",
        "from sklearn.linear_model import ElasticNet\n",
        "elastic = ElasticNet(normalize = True)\n",
        "search=GridSearchCV(estimator=elastic,param_grid={'alpha':np.logspace(-5,2,8),'l1_ratio':[.2,.4,.6,.8]},scoring='neg_mean_squared_error',n_jobs=1,refit=True,cv=10)\n",
        "\n"
      ],
      "execution_count": 66,
      "outputs": []
    },
    {
      "cell_type": "code",
      "metadata": {
        "id": "6_xU7cP2VS_4",
        "colab": {
          "base_uri": "https://localhost:8080/"
        },
        "outputId": "8f750da6-bfd4-4c24-e453-fa326146de50"
      },
      "source": [
        "search.fit(X,y)\n",
        "print('Best parameter: ',search.best_params_)\n",
        "abs(search.best_score_)"
      ],
      "execution_count": 67,
      "outputs": [
        {
          "output_type": "stream",
          "text": [
            "Best parameter:  {'alpha': 1e-05, 'l1_ratio': 0.8}\n"
          ],
          "name": "stdout"
        },
        {
          "output_type": "execute_result",
          "data": {
            "text/plain": [
              "48252084278.31577"
            ]
          },
          "metadata": {
            "tags": []
          },
          "execution_count": 67
        }
      ]
    },
    {
      "cell_type": "markdown",
      "metadata": {
        "id": "hEFsE_QJWM2G"
      },
      "source": [
        "From the above calculations, we see that we should use an alpha value of 1e-05 and a l1 ratio value of 0.8. We also got a score of roughly 48252084278.31577 which is larger than our baseline model's score of about 47976362089.97205. We will now try Elastic Net regression again but this time we will adjust the parameters to the recommended values and see if there will be any improvements"
      ]
    },
    {
      "cell_type": "code",
      "metadata": {
        "id": "HnVhLFMqZCZ0",
        "colab": {
          "base_uri": "https://localhost:8080/"
        },
        "outputId": "cfbf47b7-457a-4f3f-c05c-3dcf124673e9"
      },
      "source": [
        "elastic = ElasticNet(normalize = True, alpha = 1e-05, l1_ratio = 0.8)\n",
        "elastic.fit(X_train, y_train)\n",
        "second_elastic = (mean_squared_error(y_true = y_train, y_pred = elastic.predict(X_train)))\n",
        "print(second_elastic)\n",
        "\n"
      ],
      "execution_count": 68,
      "outputs": [
        {
          "output_type": "stream",
          "text": [
            "48112958829.49487\n"
          ],
          "name": "stdout"
        }
      ]
    },
    {
      "cell_type": "markdown",
      "metadata": {
        "id": "86-inml3ihbf"
      },
      "source": [
        "The model improved slightly but the linear model still has the lowest MSE"
      ]
    },
    {
      "cell_type": "code",
      "metadata": {
        "id": "rlPuhNZJZhnS",
        "colab": {
          "base_uri": "https://localhost:8080/"
        },
        "outputId": "05f55c78-4074-4079-987f-1865223826df"
      },
      "source": [
        "# checking our coefficients\n",
        "coef_dict_baseline = {}\n",
        "for coef, feat in zip(elastic.coef_, X.columns):\n",
        "    coef_dict_baseline[feat] = coef\n",
        "coef_dict_baseline"
      ],
      "execution_count": 69,
      "outputs": [
        {
          "output_type": "execute_result",
          "data": {
            "text/plain": [
              "{'bathrooms': 31014.48398082481,\n",
              " 'bedrooms': -44519.31918024625,\n",
              " 'condition': 29389.571834882892,\n",
              " 'floors': -19857.864899137796,\n",
              " 'grade': -37727.09953061919,\n",
              " 'lat': 95099.7588625259,\n",
              " 'long': -47841.953172982794,\n",
              " 'sqft_above': 113135.39107930019,\n",
              " 'sqft_basement': 40136.47617496429,\n",
              " 'sqft_living': 121444.31870912305,\n",
              " 'sqft_lot': 2373.3018778712467,\n",
              " 'waterfront': 63643.23536386149,\n",
              " 'zipcode': -18752.062152126113}"
            ]
          },
          "metadata": {
            "tags": []
          },
          "execution_count": 69
        }
      ]
    },
    {
      "cell_type": "markdown",
      "metadata": {
        "id": "JfTEE3m_aKfF"
      },
      "source": [
        "\n",
        " *Limitations* \n",
        "\n",
        "A limitation of Elastic net regression is that it can suffer from double shrinkage, which leads to increased bias and poor predictions.\n"
      ]
    },
    {
      "cell_type": "markdown",
      "metadata": {
        "id": "WQ42qvBvgahq"
      },
      "source": [
        "## 5. Conclusion\n",
        "Multiple Linear Regression performed the best. The model was neither overfitted nor underfitted. Though affected by multicollinearlity,the model improves a great deal after using Lasso regression by removing the correlated variables.\n",
        "\n",
        "Elastic Net MSE: 48112958829.49487\n",
        "This models should also be examined on new data to check their perfomance."
      ]
    }
  ]
}